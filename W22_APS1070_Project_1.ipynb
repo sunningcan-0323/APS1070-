{
  "cells": [
    {
      "cell_type": "markdown",
      "metadata": {
        "id": "08owH-AVyZCX"
      },
      "source": [
        "# APS1070\n",
        "#### Project 1 --- Basic Principles and Models \n",
        "**Deadline: Feb 4, 11PM - 10 percent**"
      ]
    },
    {
      "cell_type": "markdown",
      "metadata": {
        "id": "fRZ3wBoe398S"
      },
      "source": [
        "**Academic Integrity**\n",
        "\n",
        "This project is individual - it is to be completed on your own. If you have questions, please post your query in the APS1070 Piazza Q&A forums (the answer might be useful to others!).\n",
        "\n",
        "Do not share your code with others, or post your work online. Do not submit code that you have not written yourself. Students suspected of plagiarism on a project, midterm or exam will be referred to the department for formal discipline for breaches of the Student Code of Conduct."
      ]
    },
    {
      "cell_type": "markdown",
      "metadata": {
        "id": "qonbueFGyemb"
      },
      "source": [
        "Name: Ningcan Sun *(here and elsewhere, please replace the underscore with your answer)*\n",
        "\n",
        "Student ID: 1003270435"
      ]
    },
    {
      "cell_type": "markdown",
      "metadata": {
        "id": "Dykrw3cyy7PF"
      },
      "source": [
        "##**Marking Scheme:**\n",
        "\n",
        "This project is worth **10 percent** of your final grade.\n",
        "\n",
        "Draw a plot or table where necessary to summarize your findings. \n",
        "\n",
        "**Practice Vectorized coding**: If you need to write a loop in your solution, think about how you can implement the same functionality with vectorized operations. Try to avoid loops as much as possible (in some cases, loops are inevitable).\n",
        "\n",
        "\n"
      ]
    },
    {
      "cell_type": "markdown",
      "metadata": {
        "id": "dBW_phAt5wYk"
      },
      "source": [
        "### How to submit **(HTML + IPYNB)**\n",
        "\n",
        "1. Download your notebook: `File -> Download .ipynb`\n",
        "\n",
        "2. Click on the Files icon on the far left menu of Colab\n",
        "\n",
        "3. Select & upload your `.ipynb` file you just downloaded, and then obtain its path (right click) (you might need to hit the Refresh button before your file shows up)\n",
        "\n",
        "\n",
        "4. execute the following in a Colab cell:\n",
        "```\n",
        "%%shell\n",
        "jupyter nbconvert --to html /PATH/TO/YOUR/NOTEBOOKFILE.ipynb\n",
        "```\n",
        "\n",
        "5. An HTML version of your notebook will appear in the files, so you can download it.\n",
        "\n",
        "6. Submit **both** <font color='red'>`HTML` and `IPYNB`</font>  files on Quercus for grading.\n",
        "\n",
        "\n",
        "\n",
        "Ref: https://stackoverflow.com/a/64487858 \n",
        "\n"
      ]
    },
    {
      "cell_type": "markdown",
      "metadata": {
        "id": "yYlo7mIXyZFe"
      },
      "source": [
        "# Project 1 [10 Marks] \n",
        "Let's apply the tools we have learned in the tutorial to a new dataset.\n",
        "\n",
        "We're going to work with a breast cancer dataset. Download it using the cell below:"
      ]
    },
    {
      "cell_type": "code",
      "execution_count": 1,
      "metadata": {
        "id": "YFo8KVcryZFe"
      },
      "outputs": [],
      "source": [
        "from sklearn.datasets import load_breast_cancer\n",
        "dataset = load_breast_cancer()"
      ]
    },
    {
      "cell_type": "markdown",
      "metadata": {
        "id": "gOGmwyQNyZFh"
      },
      "source": [
        "## Part 1: Getting started [2 Marks]\n",
        "First off, take a look at the `data`, `target` and `feature_names` entries in the `dataset` dictionary. They contain the information we'll be working with here. Then, create a Pandas DataFrame called `df` containing the data and the targets, with the feature names as column headings. If you need help, see [here](https://pandas.pydata.org/pandas-docs/stable/reference/api/pandas.DataFrame.html) for more details on how to achieve this. **[0.4]**\n",
        "* How many features do we have in this dataset? 30\n",
        "* How many observations have a 'mean area' of greater than 700? 171\n",
        "* How many participants tested `Malignant`? 212\n",
        "* How many participants tested `Benign`? 357"
      ]
    },
    {
      "cell_type": "code",
      "execution_count": 2,
      "metadata": {
        "id": "EB0bt29vLkYc"
      },
      "outputs": [],
      "source": [
        "# import packages\n",
        "import pandas as pd\n",
        "import numpy as np"
      ]
    },
    {
      "cell_type": "code",
      "execution_count": 3,
      "metadata": {
        "colab": {
          "base_uri": "https://localhost:8080/",
          "height": 305
        },
        "id": "dN47vYvWLkYc",
        "outputId": "9c250001-9815-4c2c-9459-037a147f2472"
      },
      "outputs": [
        {
          "output_type": "execute_result",
          "data": {
            "text/html": [
              "\n",
              "  <div id=\"df-aa96dcdf-55d9-4387-97b4-06e04148f691\">\n",
              "    <div class=\"colab-df-container\">\n",
              "      <div>\n",
              "<style scoped>\n",
              "    .dataframe tbody tr th:only-of-type {\n",
              "        vertical-align: middle;\n",
              "    }\n",
              "\n",
              "    .dataframe tbody tr th {\n",
              "        vertical-align: top;\n",
              "    }\n",
              "\n",
              "    .dataframe thead th {\n",
              "        text-align: right;\n",
              "    }\n",
              "</style>\n",
              "<table border=\"1\" class=\"dataframe\">\n",
              "  <thead>\n",
              "    <tr style=\"text-align: right;\">\n",
              "      <th></th>\n",
              "      <th>mean radius</th>\n",
              "      <th>mean texture</th>\n",
              "      <th>mean perimeter</th>\n",
              "      <th>mean area</th>\n",
              "      <th>mean smoothness</th>\n",
              "      <th>mean compactness</th>\n",
              "      <th>mean concavity</th>\n",
              "      <th>mean concave points</th>\n",
              "      <th>mean symmetry</th>\n",
              "      <th>mean fractal dimension</th>\n",
              "      <th>radius error</th>\n",
              "      <th>texture error</th>\n",
              "      <th>perimeter error</th>\n",
              "      <th>area error</th>\n",
              "      <th>smoothness error</th>\n",
              "      <th>compactness error</th>\n",
              "      <th>concavity error</th>\n",
              "      <th>concave points error</th>\n",
              "      <th>symmetry error</th>\n",
              "      <th>fractal dimension error</th>\n",
              "      <th>worst radius</th>\n",
              "      <th>worst texture</th>\n",
              "      <th>worst perimeter</th>\n",
              "      <th>worst area</th>\n",
              "      <th>worst smoothness</th>\n",
              "      <th>worst compactness</th>\n",
              "      <th>worst concavity</th>\n",
              "      <th>worst concave points</th>\n",
              "      <th>worst symmetry</th>\n",
              "      <th>worst fractal dimension</th>\n",
              "    </tr>\n",
              "  </thead>\n",
              "  <tbody>\n",
              "    <tr>\n",
              "      <th>0</th>\n",
              "      <td>17.99</td>\n",
              "      <td>10.38</td>\n",
              "      <td>122.80</td>\n",
              "      <td>1001.0</td>\n",
              "      <td>0.11840</td>\n",
              "      <td>0.27760</td>\n",
              "      <td>0.3001</td>\n",
              "      <td>0.14710</td>\n",
              "      <td>0.2419</td>\n",
              "      <td>0.07871</td>\n",
              "      <td>1.0950</td>\n",
              "      <td>0.9053</td>\n",
              "      <td>8.589</td>\n",
              "      <td>153.40</td>\n",
              "      <td>0.006399</td>\n",
              "      <td>0.04904</td>\n",
              "      <td>0.05373</td>\n",
              "      <td>0.01587</td>\n",
              "      <td>0.03003</td>\n",
              "      <td>0.006193</td>\n",
              "      <td>25.38</td>\n",
              "      <td>17.33</td>\n",
              "      <td>184.60</td>\n",
              "      <td>2019.0</td>\n",
              "      <td>0.1622</td>\n",
              "      <td>0.6656</td>\n",
              "      <td>0.7119</td>\n",
              "      <td>0.2654</td>\n",
              "      <td>0.4601</td>\n",
              "      <td>0.11890</td>\n",
              "    </tr>\n",
              "    <tr>\n",
              "      <th>1</th>\n",
              "      <td>20.57</td>\n",
              "      <td>17.77</td>\n",
              "      <td>132.90</td>\n",
              "      <td>1326.0</td>\n",
              "      <td>0.08474</td>\n",
              "      <td>0.07864</td>\n",
              "      <td>0.0869</td>\n",
              "      <td>0.07017</td>\n",
              "      <td>0.1812</td>\n",
              "      <td>0.05667</td>\n",
              "      <td>0.5435</td>\n",
              "      <td>0.7339</td>\n",
              "      <td>3.398</td>\n",
              "      <td>74.08</td>\n",
              "      <td>0.005225</td>\n",
              "      <td>0.01308</td>\n",
              "      <td>0.01860</td>\n",
              "      <td>0.01340</td>\n",
              "      <td>0.01389</td>\n",
              "      <td>0.003532</td>\n",
              "      <td>24.99</td>\n",
              "      <td>23.41</td>\n",
              "      <td>158.80</td>\n",
              "      <td>1956.0</td>\n",
              "      <td>0.1238</td>\n",
              "      <td>0.1866</td>\n",
              "      <td>0.2416</td>\n",
              "      <td>0.1860</td>\n",
              "      <td>0.2750</td>\n",
              "      <td>0.08902</td>\n",
              "    </tr>\n",
              "    <tr>\n",
              "      <th>2</th>\n",
              "      <td>19.69</td>\n",
              "      <td>21.25</td>\n",
              "      <td>130.00</td>\n",
              "      <td>1203.0</td>\n",
              "      <td>0.10960</td>\n",
              "      <td>0.15990</td>\n",
              "      <td>0.1974</td>\n",
              "      <td>0.12790</td>\n",
              "      <td>0.2069</td>\n",
              "      <td>0.05999</td>\n",
              "      <td>0.7456</td>\n",
              "      <td>0.7869</td>\n",
              "      <td>4.585</td>\n",
              "      <td>94.03</td>\n",
              "      <td>0.006150</td>\n",
              "      <td>0.04006</td>\n",
              "      <td>0.03832</td>\n",
              "      <td>0.02058</td>\n",
              "      <td>0.02250</td>\n",
              "      <td>0.004571</td>\n",
              "      <td>23.57</td>\n",
              "      <td>25.53</td>\n",
              "      <td>152.50</td>\n",
              "      <td>1709.0</td>\n",
              "      <td>0.1444</td>\n",
              "      <td>0.4245</td>\n",
              "      <td>0.4504</td>\n",
              "      <td>0.2430</td>\n",
              "      <td>0.3613</td>\n",
              "      <td>0.08758</td>\n",
              "    </tr>\n",
              "    <tr>\n",
              "      <th>3</th>\n",
              "      <td>11.42</td>\n",
              "      <td>20.38</td>\n",
              "      <td>77.58</td>\n",
              "      <td>386.1</td>\n",
              "      <td>0.14250</td>\n",
              "      <td>0.28390</td>\n",
              "      <td>0.2414</td>\n",
              "      <td>0.10520</td>\n",
              "      <td>0.2597</td>\n",
              "      <td>0.09744</td>\n",
              "      <td>0.4956</td>\n",
              "      <td>1.1560</td>\n",
              "      <td>3.445</td>\n",
              "      <td>27.23</td>\n",
              "      <td>0.009110</td>\n",
              "      <td>0.07458</td>\n",
              "      <td>0.05661</td>\n",
              "      <td>0.01867</td>\n",
              "      <td>0.05963</td>\n",
              "      <td>0.009208</td>\n",
              "      <td>14.91</td>\n",
              "      <td>26.50</td>\n",
              "      <td>98.87</td>\n",
              "      <td>567.7</td>\n",
              "      <td>0.2098</td>\n",
              "      <td>0.8663</td>\n",
              "      <td>0.6869</td>\n",
              "      <td>0.2575</td>\n",
              "      <td>0.6638</td>\n",
              "      <td>0.17300</td>\n",
              "    </tr>\n",
              "    <tr>\n",
              "      <th>4</th>\n",
              "      <td>20.29</td>\n",
              "      <td>14.34</td>\n",
              "      <td>135.10</td>\n",
              "      <td>1297.0</td>\n",
              "      <td>0.10030</td>\n",
              "      <td>0.13280</td>\n",
              "      <td>0.1980</td>\n",
              "      <td>0.10430</td>\n",
              "      <td>0.1809</td>\n",
              "      <td>0.05883</td>\n",
              "      <td>0.7572</td>\n",
              "      <td>0.7813</td>\n",
              "      <td>5.438</td>\n",
              "      <td>94.44</td>\n",
              "      <td>0.011490</td>\n",
              "      <td>0.02461</td>\n",
              "      <td>0.05688</td>\n",
              "      <td>0.01885</td>\n",
              "      <td>0.01756</td>\n",
              "      <td>0.005115</td>\n",
              "      <td>22.54</td>\n",
              "      <td>16.67</td>\n",
              "      <td>152.20</td>\n",
              "      <td>1575.0</td>\n",
              "      <td>0.1374</td>\n",
              "      <td>0.2050</td>\n",
              "      <td>0.4000</td>\n",
              "      <td>0.1625</td>\n",
              "      <td>0.2364</td>\n",
              "      <td>0.07678</td>\n",
              "    </tr>\n",
              "  </tbody>\n",
              "</table>\n",
              "</div>\n",
              "      <button class=\"colab-df-convert\" onclick=\"convertToInteractive('df-aa96dcdf-55d9-4387-97b4-06e04148f691')\"\n",
              "              title=\"Convert this dataframe to an interactive table.\"\n",
              "              style=\"display:none;\">\n",
              "        \n",
              "  <svg xmlns=\"http://www.w3.org/2000/svg\" height=\"24px\"viewBox=\"0 0 24 24\"\n",
              "       width=\"24px\">\n",
              "    <path d=\"M0 0h24v24H0V0z\" fill=\"none\"/>\n",
              "    <path d=\"M18.56 5.44l.94 2.06.94-2.06 2.06-.94-2.06-.94-.94-2.06-.94 2.06-2.06.94zm-11 1L8.5 8.5l.94-2.06 2.06-.94-2.06-.94L8.5 2.5l-.94 2.06-2.06.94zm10 10l.94 2.06.94-2.06 2.06-.94-2.06-.94-.94-2.06-.94 2.06-2.06.94z\"/><path d=\"M17.41 7.96l-1.37-1.37c-.4-.4-.92-.59-1.43-.59-.52 0-1.04.2-1.43.59L10.3 9.45l-7.72 7.72c-.78.78-.78 2.05 0 2.83L4 21.41c.39.39.9.59 1.41.59.51 0 1.02-.2 1.41-.59l7.78-7.78 2.81-2.81c.8-.78.8-2.07 0-2.86zM5.41 20L4 18.59l7.72-7.72 1.47 1.35L5.41 20z\"/>\n",
              "  </svg>\n",
              "      </button>\n",
              "      \n",
              "  <style>\n",
              "    .colab-df-container {\n",
              "      display:flex;\n",
              "      flex-wrap:wrap;\n",
              "      gap: 12px;\n",
              "    }\n",
              "\n",
              "    .colab-df-convert {\n",
              "      background-color: #E8F0FE;\n",
              "      border: none;\n",
              "      border-radius: 50%;\n",
              "      cursor: pointer;\n",
              "      display: none;\n",
              "      fill: #1967D2;\n",
              "      height: 32px;\n",
              "      padding: 0 0 0 0;\n",
              "      width: 32px;\n",
              "    }\n",
              "\n",
              "    .colab-df-convert:hover {\n",
              "      background-color: #E2EBFA;\n",
              "      box-shadow: 0px 1px 2px rgba(60, 64, 67, 0.3), 0px 1px 3px 1px rgba(60, 64, 67, 0.15);\n",
              "      fill: #174EA6;\n",
              "    }\n",
              "\n",
              "    [theme=dark] .colab-df-convert {\n",
              "      background-color: #3B4455;\n",
              "      fill: #D2E3FC;\n",
              "    }\n",
              "\n",
              "    [theme=dark] .colab-df-convert:hover {\n",
              "      background-color: #434B5C;\n",
              "      box-shadow: 0px 1px 3px 1px rgba(0, 0, 0, 0.15);\n",
              "      filter: drop-shadow(0px 1px 2px rgba(0, 0, 0, 0.3));\n",
              "      fill: #FFFFFF;\n",
              "    }\n",
              "  </style>\n",
              "\n",
              "      <script>\n",
              "        const buttonEl =\n",
              "          document.querySelector('#df-aa96dcdf-55d9-4387-97b4-06e04148f691 button.colab-df-convert');\n",
              "        buttonEl.style.display =\n",
              "          google.colab.kernel.accessAllowed ? 'block' : 'none';\n",
              "\n",
              "        async function convertToInteractive(key) {\n",
              "          const element = document.querySelector('#df-aa96dcdf-55d9-4387-97b4-06e04148f691');\n",
              "          const dataTable =\n",
              "            await google.colab.kernel.invokeFunction('convertToInteractive',\n",
              "                                                     [key], {});\n",
              "          if (!dataTable) return;\n",
              "\n",
              "          const docLinkHtml = 'Like what you see? Visit the ' +\n",
              "            '<a target=\"_blank\" href=https://colab.research.google.com/notebooks/data_table.ipynb>data table notebook</a>'\n",
              "            + ' to learn more about interactive tables.';\n",
              "          element.innerHTML = '';\n",
              "          dataTable['output_type'] = 'display_data';\n",
              "          await google.colab.output.renderOutput(dataTable, element);\n",
              "          const docLink = document.createElement('div');\n",
              "          docLink.innerHTML = docLinkHtml;\n",
              "          element.appendChild(docLink);\n",
              "        }\n",
              "      </script>\n",
              "    </div>\n",
              "  </div>\n",
              "  "
            ],
            "text/plain": [
              "   mean radius  mean texture  ...  worst symmetry  worst fractal dimension\n",
              "0        17.99         10.38  ...          0.4601                  0.11890\n",
              "1        20.57         17.77  ...          0.2750                  0.08902\n",
              "2        19.69         21.25  ...          0.3613                  0.08758\n",
              "3        11.42         20.38  ...          0.6638                  0.17300\n",
              "4        20.29         14.34  ...          0.2364                  0.07678\n",
              "\n",
              "[5 rows x 30 columns]"
            ]
          },
          "metadata": {},
          "execution_count": 3
        }
      ],
      "source": [
        "# the df only include features\n",
        "df = pd.DataFrame(data=dataset.data, columns=dataset.feature_names)\n",
        "df.head()"
      ]
    },
    {
      "cell_type": "code",
      "execution_count": 4,
      "metadata": {
        "colab": {
          "base_uri": "https://localhost:8080/",
          "height": 305
        },
        "id": "Xtieyxr6LkYd",
        "outputId": "4620bb7f-d262-4b88-8090-fa5bf0dc2465"
      },
      "outputs": [
        {
          "output_type": "execute_result",
          "data": {
            "text/html": [
              "\n",
              "  <div id=\"df-4d9435b8-3278-46cc-a2f1-216de1d8522e\">\n",
              "    <div class=\"colab-df-container\">\n",
              "      <div>\n",
              "<style scoped>\n",
              "    .dataframe tbody tr th:only-of-type {\n",
              "        vertical-align: middle;\n",
              "    }\n",
              "\n",
              "    .dataframe tbody tr th {\n",
              "        vertical-align: top;\n",
              "    }\n",
              "\n",
              "    .dataframe thead th {\n",
              "        text-align: right;\n",
              "    }\n",
              "</style>\n",
              "<table border=\"1\" class=\"dataframe\">\n",
              "  <thead>\n",
              "    <tr style=\"text-align: right;\">\n",
              "      <th></th>\n",
              "      <th>mean radius</th>\n",
              "      <th>mean texture</th>\n",
              "      <th>mean perimeter</th>\n",
              "      <th>mean area</th>\n",
              "      <th>mean smoothness</th>\n",
              "      <th>mean compactness</th>\n",
              "      <th>mean concavity</th>\n",
              "      <th>mean concave points</th>\n",
              "      <th>mean symmetry</th>\n",
              "      <th>mean fractal dimension</th>\n",
              "      <th>radius error</th>\n",
              "      <th>texture error</th>\n",
              "      <th>perimeter error</th>\n",
              "      <th>area error</th>\n",
              "      <th>smoothness error</th>\n",
              "      <th>compactness error</th>\n",
              "      <th>concavity error</th>\n",
              "      <th>concave points error</th>\n",
              "      <th>symmetry error</th>\n",
              "      <th>fractal dimension error</th>\n",
              "      <th>worst radius</th>\n",
              "      <th>worst texture</th>\n",
              "      <th>worst perimeter</th>\n",
              "      <th>worst area</th>\n",
              "      <th>worst smoothness</th>\n",
              "      <th>worst compactness</th>\n",
              "      <th>worst concavity</th>\n",
              "      <th>worst concave points</th>\n",
              "      <th>worst symmetry</th>\n",
              "      <th>worst fractal dimension</th>\n",
              "      <th>Malignant_or_Benign</th>\n",
              "    </tr>\n",
              "  </thead>\n",
              "  <tbody>\n",
              "    <tr>\n",
              "      <th>0</th>\n",
              "      <td>17.99</td>\n",
              "      <td>10.38</td>\n",
              "      <td>122.80</td>\n",
              "      <td>1001.0</td>\n",
              "      <td>0.11840</td>\n",
              "      <td>0.27760</td>\n",
              "      <td>0.3001</td>\n",
              "      <td>0.14710</td>\n",
              "      <td>0.2419</td>\n",
              "      <td>0.07871</td>\n",
              "      <td>1.0950</td>\n",
              "      <td>0.9053</td>\n",
              "      <td>8.589</td>\n",
              "      <td>153.40</td>\n",
              "      <td>0.006399</td>\n",
              "      <td>0.04904</td>\n",
              "      <td>0.05373</td>\n",
              "      <td>0.01587</td>\n",
              "      <td>0.03003</td>\n",
              "      <td>0.006193</td>\n",
              "      <td>25.38</td>\n",
              "      <td>17.33</td>\n",
              "      <td>184.60</td>\n",
              "      <td>2019.0</td>\n",
              "      <td>0.1622</td>\n",
              "      <td>0.6656</td>\n",
              "      <td>0.7119</td>\n",
              "      <td>0.2654</td>\n",
              "      <td>0.4601</td>\n",
              "      <td>0.11890</td>\n",
              "      <td>0</td>\n",
              "    </tr>\n",
              "    <tr>\n",
              "      <th>1</th>\n",
              "      <td>20.57</td>\n",
              "      <td>17.77</td>\n",
              "      <td>132.90</td>\n",
              "      <td>1326.0</td>\n",
              "      <td>0.08474</td>\n",
              "      <td>0.07864</td>\n",
              "      <td>0.0869</td>\n",
              "      <td>0.07017</td>\n",
              "      <td>0.1812</td>\n",
              "      <td>0.05667</td>\n",
              "      <td>0.5435</td>\n",
              "      <td>0.7339</td>\n",
              "      <td>3.398</td>\n",
              "      <td>74.08</td>\n",
              "      <td>0.005225</td>\n",
              "      <td>0.01308</td>\n",
              "      <td>0.01860</td>\n",
              "      <td>0.01340</td>\n",
              "      <td>0.01389</td>\n",
              "      <td>0.003532</td>\n",
              "      <td>24.99</td>\n",
              "      <td>23.41</td>\n",
              "      <td>158.80</td>\n",
              "      <td>1956.0</td>\n",
              "      <td>0.1238</td>\n",
              "      <td>0.1866</td>\n",
              "      <td>0.2416</td>\n",
              "      <td>0.1860</td>\n",
              "      <td>0.2750</td>\n",
              "      <td>0.08902</td>\n",
              "      <td>0</td>\n",
              "    </tr>\n",
              "    <tr>\n",
              "      <th>2</th>\n",
              "      <td>19.69</td>\n",
              "      <td>21.25</td>\n",
              "      <td>130.00</td>\n",
              "      <td>1203.0</td>\n",
              "      <td>0.10960</td>\n",
              "      <td>0.15990</td>\n",
              "      <td>0.1974</td>\n",
              "      <td>0.12790</td>\n",
              "      <td>0.2069</td>\n",
              "      <td>0.05999</td>\n",
              "      <td>0.7456</td>\n",
              "      <td>0.7869</td>\n",
              "      <td>4.585</td>\n",
              "      <td>94.03</td>\n",
              "      <td>0.006150</td>\n",
              "      <td>0.04006</td>\n",
              "      <td>0.03832</td>\n",
              "      <td>0.02058</td>\n",
              "      <td>0.02250</td>\n",
              "      <td>0.004571</td>\n",
              "      <td>23.57</td>\n",
              "      <td>25.53</td>\n",
              "      <td>152.50</td>\n",
              "      <td>1709.0</td>\n",
              "      <td>0.1444</td>\n",
              "      <td>0.4245</td>\n",
              "      <td>0.4504</td>\n",
              "      <td>0.2430</td>\n",
              "      <td>0.3613</td>\n",
              "      <td>0.08758</td>\n",
              "      <td>0</td>\n",
              "    </tr>\n",
              "    <tr>\n",
              "      <th>3</th>\n",
              "      <td>11.42</td>\n",
              "      <td>20.38</td>\n",
              "      <td>77.58</td>\n",
              "      <td>386.1</td>\n",
              "      <td>0.14250</td>\n",
              "      <td>0.28390</td>\n",
              "      <td>0.2414</td>\n",
              "      <td>0.10520</td>\n",
              "      <td>0.2597</td>\n",
              "      <td>0.09744</td>\n",
              "      <td>0.4956</td>\n",
              "      <td>1.1560</td>\n",
              "      <td>3.445</td>\n",
              "      <td>27.23</td>\n",
              "      <td>0.009110</td>\n",
              "      <td>0.07458</td>\n",
              "      <td>0.05661</td>\n",
              "      <td>0.01867</td>\n",
              "      <td>0.05963</td>\n",
              "      <td>0.009208</td>\n",
              "      <td>14.91</td>\n",
              "      <td>26.50</td>\n",
              "      <td>98.87</td>\n",
              "      <td>567.7</td>\n",
              "      <td>0.2098</td>\n",
              "      <td>0.8663</td>\n",
              "      <td>0.6869</td>\n",
              "      <td>0.2575</td>\n",
              "      <td>0.6638</td>\n",
              "      <td>0.17300</td>\n",
              "      <td>0</td>\n",
              "    </tr>\n",
              "    <tr>\n",
              "      <th>4</th>\n",
              "      <td>20.29</td>\n",
              "      <td>14.34</td>\n",
              "      <td>135.10</td>\n",
              "      <td>1297.0</td>\n",
              "      <td>0.10030</td>\n",
              "      <td>0.13280</td>\n",
              "      <td>0.1980</td>\n",
              "      <td>0.10430</td>\n",
              "      <td>0.1809</td>\n",
              "      <td>0.05883</td>\n",
              "      <td>0.7572</td>\n",
              "      <td>0.7813</td>\n",
              "      <td>5.438</td>\n",
              "      <td>94.44</td>\n",
              "      <td>0.011490</td>\n",
              "      <td>0.02461</td>\n",
              "      <td>0.05688</td>\n",
              "      <td>0.01885</td>\n",
              "      <td>0.01756</td>\n",
              "      <td>0.005115</td>\n",
              "      <td>22.54</td>\n",
              "      <td>16.67</td>\n",
              "      <td>152.20</td>\n",
              "      <td>1575.0</td>\n",
              "      <td>0.1374</td>\n",
              "      <td>0.2050</td>\n",
              "      <td>0.4000</td>\n",
              "      <td>0.1625</td>\n",
              "      <td>0.2364</td>\n",
              "      <td>0.07678</td>\n",
              "      <td>0</td>\n",
              "    </tr>\n",
              "  </tbody>\n",
              "</table>\n",
              "</div>\n",
              "      <button class=\"colab-df-convert\" onclick=\"convertToInteractive('df-4d9435b8-3278-46cc-a2f1-216de1d8522e')\"\n",
              "              title=\"Convert this dataframe to an interactive table.\"\n",
              "              style=\"display:none;\">\n",
              "        \n",
              "  <svg xmlns=\"http://www.w3.org/2000/svg\" height=\"24px\"viewBox=\"0 0 24 24\"\n",
              "       width=\"24px\">\n",
              "    <path d=\"M0 0h24v24H0V0z\" fill=\"none\"/>\n",
              "    <path d=\"M18.56 5.44l.94 2.06.94-2.06 2.06-.94-2.06-.94-.94-2.06-.94 2.06-2.06.94zm-11 1L8.5 8.5l.94-2.06 2.06-.94-2.06-.94L8.5 2.5l-.94 2.06-2.06.94zm10 10l.94 2.06.94-2.06 2.06-.94-2.06-.94-.94-2.06-.94 2.06-2.06.94z\"/><path d=\"M17.41 7.96l-1.37-1.37c-.4-.4-.92-.59-1.43-.59-.52 0-1.04.2-1.43.59L10.3 9.45l-7.72 7.72c-.78.78-.78 2.05 0 2.83L4 21.41c.39.39.9.59 1.41.59.51 0 1.02-.2 1.41-.59l7.78-7.78 2.81-2.81c.8-.78.8-2.07 0-2.86zM5.41 20L4 18.59l7.72-7.72 1.47 1.35L5.41 20z\"/>\n",
              "  </svg>\n",
              "      </button>\n",
              "      \n",
              "  <style>\n",
              "    .colab-df-container {\n",
              "      display:flex;\n",
              "      flex-wrap:wrap;\n",
              "      gap: 12px;\n",
              "    }\n",
              "\n",
              "    .colab-df-convert {\n",
              "      background-color: #E8F0FE;\n",
              "      border: none;\n",
              "      border-radius: 50%;\n",
              "      cursor: pointer;\n",
              "      display: none;\n",
              "      fill: #1967D2;\n",
              "      height: 32px;\n",
              "      padding: 0 0 0 0;\n",
              "      width: 32px;\n",
              "    }\n",
              "\n",
              "    .colab-df-convert:hover {\n",
              "      background-color: #E2EBFA;\n",
              "      box-shadow: 0px 1px 2px rgba(60, 64, 67, 0.3), 0px 1px 3px 1px rgba(60, 64, 67, 0.15);\n",
              "      fill: #174EA6;\n",
              "    }\n",
              "\n",
              "    [theme=dark] .colab-df-convert {\n",
              "      background-color: #3B4455;\n",
              "      fill: #D2E3FC;\n",
              "    }\n",
              "\n",
              "    [theme=dark] .colab-df-convert:hover {\n",
              "      background-color: #434B5C;\n",
              "      box-shadow: 0px 1px 3px 1px rgba(0, 0, 0, 0.15);\n",
              "      filter: drop-shadow(0px 1px 2px rgba(0, 0, 0, 0.3));\n",
              "      fill: #FFFFFF;\n",
              "    }\n",
              "  </style>\n",
              "\n",
              "      <script>\n",
              "        const buttonEl =\n",
              "          document.querySelector('#df-4d9435b8-3278-46cc-a2f1-216de1d8522e button.colab-df-convert');\n",
              "        buttonEl.style.display =\n",
              "          google.colab.kernel.accessAllowed ? 'block' : 'none';\n",
              "\n",
              "        async function convertToInteractive(key) {\n",
              "          const element = document.querySelector('#df-4d9435b8-3278-46cc-a2f1-216de1d8522e');\n",
              "          const dataTable =\n",
              "            await google.colab.kernel.invokeFunction('convertToInteractive',\n",
              "                                                     [key], {});\n",
              "          if (!dataTable) return;\n",
              "\n",
              "          const docLinkHtml = 'Like what you see? Visit the ' +\n",
              "            '<a target=\"_blank\" href=https://colab.research.google.com/notebooks/data_table.ipynb>data table notebook</a>'\n",
              "            + ' to learn more about interactive tables.';\n",
              "          element.innerHTML = '';\n",
              "          dataTable['output_type'] = 'display_data';\n",
              "          await google.colab.output.renderOutput(dataTable, element);\n",
              "          const docLink = document.createElement('div');\n",
              "          docLink.innerHTML = docLinkHtml;\n",
              "          element.appendChild(docLink);\n",
              "        }\n",
              "      </script>\n",
              "    </div>\n",
              "  </div>\n",
              "  "
            ],
            "text/plain": [
              "   mean radius  mean texture  ...  worst fractal dimension  Malignant_or_Benign\n",
              "0        17.99         10.38  ...                  0.11890                    0\n",
              "1        20.57         17.77  ...                  0.08902                    0\n",
              "2        19.69         21.25  ...                  0.08758                    0\n",
              "3        11.42         20.38  ...                  0.17300                    0\n",
              "4        20.29         14.34  ...                  0.07678                    0\n",
              "\n",
              "[5 rows x 31 columns]"
            ]
          },
          "metadata": {},
          "execution_count": 4
        }
      ],
      "source": [
        "# get the target \n",
        "target=dataset.target\n",
        "# add the target into the df, the df include the features and the target variable\n",
        "df['Malignant_or_Benign'] = target\n",
        "df.head()"
      ]
    },
    {
      "cell_type": "code",
      "execution_count": 5,
      "metadata": {
        "colab": {
          "base_uri": "https://localhost:8080/"
        },
        "id": "xYKIoFswLkYe",
        "outputId": "81528f46-ec12-4827-c10f-52198cc3392e"
      },
      "outputs": [
        {
          "output_type": "stream",
          "name": "stdout",
          "text": [
            "The number of feature is  30\n"
          ]
        }
      ],
      "source": [
        "# The number of feature\n",
        "# The reason I minus 1 because it include one target.\n",
        "print('The number of feature is ',df.shape[1]-1)"
      ]
    },
    {
      "cell_type": "code",
      "execution_count": 6,
      "metadata": {
        "colab": {
          "base_uri": "https://localhost:8080/"
        },
        "id": "fSm3YkctLkYe",
        "outputId": "bf8e6e3c-e299-4477-9c39-452d033e6fe2"
      },
      "outputs": [
        {
          "output_type": "stream",
          "name": "stdout",
          "text": [
            "the numeber of observations have a mean area  greater than 700 is 171\n"
          ]
        }
      ],
      "source": [
        "# How many observations have a 'mean area' of greater than 700? \n",
        "print('the numeber of observations have a mean area  greater than 700 is',df[df['mean area'] >700].shape[0])"
      ]
    },
    {
      "cell_type": "code",
      "execution_count": 7,
      "metadata": {
        "colab": {
          "base_uri": "https://localhost:8080/"
        },
        "id": "HIO9s8U6LkYe",
        "outputId": "533991ee-97c8-423f-8a20-17799ff41ab7"
      },
      "outputs": [
        {
          "output_type": "stream",
          "name": "stdout",
          "text": [
            "the number of participant tested Malignant is  212\n"
          ]
        }
      ],
      "source": [
        "#How many participants tested Malignant? \n",
        "print('the number of participant tested Malignant is ',df[df['Malignant_or_Benign']==0].shape[0])"
      ]
    },
    {
      "cell_type": "code",
      "execution_count": 8,
      "metadata": {
        "colab": {
          "base_uri": "https://localhost:8080/"
        },
        "id": "GLBzJH9PLkYf",
        "outputId": "db86d133-e52e-47fb-f54a-1b21483ab2a5"
      },
      "outputs": [
        {
          "output_type": "stream",
          "name": "stdout",
          "text": [
            "the number of participant tested Benign is  357\n"
          ]
        }
      ],
      "source": [
        "#How many participants tested Benign? \n",
        "print('the number of participant tested Benign is ',df[df['Malignant_or_Benign']==1].shape[0])"
      ]
    },
    {
      "cell_type": "markdown",
      "metadata": {
        "id": "JYFnCYeiLkYf"
      },
      "source": [
        "###### Summarize:\n",
        "<font color ='Blue'> The number of feature is 30\n",
        "    \n",
        "<font color ='Blue'>    the numeber of observations have a mean area  greater than 700 is 171\n",
        "    \n",
        "<font color ='Blue'>    the number of participant tested Malignant is  212\n",
        "    \n",
        "<font color ='Blue'>    the number of participant tested Benign is  357"
      ]
    },
    {
      "cell_type": "markdown",
      "metadata": {
        "id": "YyqBEQXGq-B0"
      },
      "source": [
        "### Splitting the data\n",
        "It is best practice to have a training set (from which there is a rotating validation subset) and a test set. Our aim here is to (eventually) obtain the best accuracy we can on the test set (we'll do all our tuning on the training/validation sets, however.) \n",
        "\n",
        "**Split the dataset** into a train and a test set **\"70:30\"**, use **``random_state=0``**. The test set is set aside (untouched) for final evaluation, once hyperparameter optimization is complete. **[0.5]**"
      ]
    },
    {
      "cell_type": "code",
      "execution_count": 9,
      "metadata": {
        "id": "A5equ6ied8eg"
      },
      "outputs": [],
      "source": [
        "from sklearn.model_selection import train_test_split\n",
        "X = df.drop(['Malignant_or_Benign'],axis = 1).copy()\n",
        "y = df['Malignant_or_Benign'].copy()\n",
        "\n",
        "X_train, X_test, y_train, y_test = train_test_split(X, y, random_state=0, test_size=0.3)"
      ]
    },
    {
      "cell_type": "markdown",
      "metadata": {
        "id": "U_jNtkfce9Eg"
      },
      "source": [
        "### Effect of Standardization (Visual)\n",
        "Use `seaborn.lmplot` ([help here](https://seaborn.pydata.org/generated/seaborn.lmplot.html)) to visualize a few features of the training set. Draw a plot where the x-axis is ``worst smoothness``, the y-axis is ``worst fractal dimension,`` and the color of each datapoint indicates its class.  **[0.5]**\n",
        "\n",
        "Standardizing the data is often critical in machine learning. Show a plot as above, but with two features with very different scales. Standardize the data and plot those features again. What's different? Based on your observation, what is the advantage of standardization? **[0.6]**\n",
        "\n",
        "\n"
      ]
    },
    {
      "cell_type": "code",
      "execution_count": 10,
      "metadata": {
        "id": "J-r0PihwLkYg"
      },
      "outputs": [],
      "source": [
        "# Find the variable 'worst smoothness' and 'worst fractal dimension' under training set \n",
        "Worst_smoothness_df=pd.DataFrame(X_train['worst smoothness'])\n",
        "Worst_fractal_dimension=pd.DataFrame(X_train['worst fractal dimension'])"
      ]
    },
    {
      "cell_type": "code",
      "execution_count": 11,
      "metadata": {
        "id": "J684emSV8mJd",
        "colab": {
          "base_uri": "https://localhost:8080/",
          "height": 369
        },
        "outputId": "f451ea05-2fae-4e93-e038-0307df70a93d"
      },
      "outputs": [
        {
          "output_type": "display_data",
          "data": {
            "image/png": "[encoded data removed]",
            "text/plain": [
              "<Figure size 472.75x360 with 1 Axes>"
            ]
          },
          "metadata": {
            "needs_background": "light"
          }
        }
      ],
      "source": [
        "# Draw a plot where the x-axis is worst smoothness, the y-axis is worst fractal dimension,\n",
        "import seaborn as sns\n",
        "graph = sns.lmplot(x='worst smoothness',y= 'worst fractal dimension', data=df, hue=\"Malignant_or_Benign\")"
      ]
    },
    {
      "cell_type": "code",
      "execution_count": 12,
      "metadata": {
        "colab": {
          "base_uri": "https://localhost:8080/"
        },
        "id": "phsSCav4LkYh",
        "outputId": "48a99a86-a2ff-4258-d8dd-7ac9ab5fbbaf"
      },
      "outputs": [
        {
          "output_type": "execute_result",
          "data": {
            "text/plain": [
              "478    0.116182\n",
              "303    0.381521\n",
              "155   -0.471044\n",
              "186   -0.397097\n",
              "101    1.125341\n",
              "         ...   \n",
              "277   -0.357949\n",
              "9      2.295444\n",
              "359    0.033535\n",
              "192   -2.669011\n",
              "559   -0.118709\n",
              "Name: worst smoothness, Length: 398, dtype: float64"
            ]
          },
          "metadata": {},
          "execution_count": 12
        }
      ],
      "source": [
        "#standardizing the data - variable worst smooth\n",
        "worst_smoothness=X_train['worst smoothness']\n",
        "\n",
        "# get the mean for worst smoothness\n",
        "worst_smoothness_mean = X_train['worst smoothness'].mean()\n",
        "\n",
        "#get the standard deviation for worst smoothness\n",
        "worst_smoothness_std = X_train['worst smoothness'].std()\n",
        "\n",
        "#apply the Standardlizing\n",
        "worst_smoothness -= worst_smoothness_mean\n",
        "worst_smoothness /= worst_smoothness_std\n",
        "worst_smoothness"
      ]
    },
    {
      "cell_type": "code",
      "execution_count": 13,
      "metadata": {
        "colab": {
          "base_uri": "https://localhost:8080/"
        },
        "id": "fZLIIG7CLkYh",
        "outputId": "274a9d88-e81a-445f-9d50-111fea2d9e04"
      },
      "outputs": [
        {
          "output_type": "execute_result",
          "data": {
            "text/plain": [
              "478    0.450062\n",
              "303   -0.295042\n",
              "155   -0.133547\n",
              "186   -0.798461\n",
              "101    0.562552\n",
              "         ...   \n",
              "277   -1.467273\n",
              "9      6.893154\n",
              "359   -0.131320\n",
              "192   -1.009518\n",
              "559    0.200580\n",
              "Name: worst fractal dimension, Length: 398, dtype: float64"
            ]
          },
          "metadata": {},
          "execution_count": 13
        }
      ],
      "source": [
        "#standardizing the data - variable worst fractal dimension\n",
        "worst_fractal_dimension=X_train['worst fractal dimension']\n",
        "\n",
        "# get the mean for worst fractal dimension\n",
        "worst_fractal_dimension_mean = X_train['worst fractal dimension'].mean()\n",
        "\n",
        "#get the standard deviation for worst fractal dimension\n",
        "worst_fractal_dimension_std = X_train['worst fractal dimension'].std()\n",
        "\n",
        "#apply the Standardlizing\n",
        "worst_fractal_dimension -= worst_fractal_dimension_mean\n",
        "worst_fractal_dimension /= worst_fractal_dimension_std\n",
        "worst_fractal_dimension"
      ]
    },
    {
      "cell_type": "code",
      "execution_count": 14,
      "metadata": {
        "id": "KfzJ_zS1LkYh"
      },
      "outputs": [],
      "source": [
        "# Change the index, so that we can easily to contact the df\n",
        "worst_smoothness=worst_smoothness.reset_index().iloc[:,1]\n",
        "worst_fractal_dimension=worst_fractal_dimension.reset_index().iloc[:,1]\n",
        "y_train=y_train.reset_index().iloc[:,1]"
      ]
    },
    {
      "cell_type": "code",
      "execution_count": 15,
      "metadata": {
        "colab": {
          "base_uri": "https://localhost:8080/",
          "height": 424
        },
        "id": "zD16Bj5dLkYh",
        "outputId": "fb3a78e0-b5bb-4b72-d6be-5042c1801f5c"
      },
      "outputs": [
        {
          "output_type": "execute_result",
          "data": {
            "text/html": [
              "\n",
              "  <div id=\"df-694606f1-a40c-451d-add0-613dc6a5b9b1\">\n",
              "    <div class=\"colab-df-container\">\n",
              "      <div>\n",
              "<style scoped>\n",
              "    .dataframe tbody tr th:only-of-type {\n",
              "        vertical-align: middle;\n",
              "    }\n",
              "\n",
              "    .dataframe tbody tr th {\n",
              "        vertical-align: top;\n",
              "    }\n",
              "\n",
              "    .dataframe thead th {\n",
              "        text-align: right;\n",
              "    }\n",
              "</style>\n",
              "<table border=\"1\" class=\"dataframe\">\n",
              "  <thead>\n",
              "    <tr style=\"text-align: right;\">\n",
              "      <th></th>\n",
              "      <th>worst smoothness</th>\n",
              "      <th>worst fractal dimension</th>\n",
              "      <th>Malignant_or_Benign</th>\n",
              "    </tr>\n",
              "  </thead>\n",
              "  <tbody>\n",
              "    <tr>\n",
              "      <th>0</th>\n",
              "      <td>0.116182</td>\n",
              "      <td>0.450062</td>\n",
              "      <td>1</td>\n",
              "    </tr>\n",
              "    <tr>\n",
              "      <th>1</th>\n",
              "      <td>0.381521</td>\n",
              "      <td>-0.295042</td>\n",
              "      <td>1</td>\n",
              "    </tr>\n",
              "    <tr>\n",
              "      <th>2</th>\n",
              "      <td>-0.471044</td>\n",
              "      <td>-0.133547</td>\n",
              "      <td>1</td>\n",
              "    </tr>\n",
              "    <tr>\n",
              "      <th>3</th>\n",
              "      <td>-0.397097</td>\n",
              "      <td>-0.798461</td>\n",
              "      <td>0</td>\n",
              "    </tr>\n",
              "    <tr>\n",
              "      <th>4</th>\n",
              "      <td>1.125341</td>\n",
              "      <td>0.562552</td>\n",
              "      <td>1</td>\n",
              "    </tr>\n",
              "    <tr>\n",
              "      <th>...</th>\n",
              "      <td>...</td>\n",
              "      <td>...</td>\n",
              "      <td>...</td>\n",
              "    </tr>\n",
              "    <tr>\n",
              "      <th>393</th>\n",
              "      <td>-0.357949</td>\n",
              "      <td>-1.467273</td>\n",
              "      <td>0</td>\n",
              "    </tr>\n",
              "    <tr>\n",
              "      <th>394</th>\n",
              "      <td>2.295444</td>\n",
              "      <td>6.893154</td>\n",
              "      <td>0</td>\n",
              "    </tr>\n",
              "    <tr>\n",
              "      <th>395</th>\n",
              "      <td>0.033535</td>\n",
              "      <td>-0.131320</td>\n",
              "      <td>1</td>\n",
              "    </tr>\n",
              "    <tr>\n",
              "      <th>396</th>\n",
              "      <td>-2.669011</td>\n",
              "      <td>-1.009518</td>\n",
              "      <td>1</td>\n",
              "    </tr>\n",
              "    <tr>\n",
              "      <th>397</th>\n",
              "      <td>-0.118709</td>\n",
              "      <td>0.200580</td>\n",
              "      <td>1</td>\n",
              "    </tr>\n",
              "  </tbody>\n",
              "</table>\n",
              "<p>398 rows × 3 columns</p>\n",
              "</div>\n",
              "      <button class=\"colab-df-convert\" onclick=\"convertToInteractive('df-694606f1-a40c-451d-add0-613dc6a5b9b1')\"\n",
              "              title=\"Convert this dataframe to an interactive table.\"\n",
              "              style=\"display:none;\">\n",
              "        \n",
              "  <svg xmlns=\"http://www.w3.org/2000/svg\" height=\"24px\"viewBox=\"0 0 24 24\"\n",
              "       width=\"24px\">\n",
              "    <path d=\"M0 0h24v24H0V0z\" fill=\"none\"/>\n",
              "    <path d=\"M18.56 5.44l.94 2.06.94-2.06 2.06-.94-2.06-.94-.94-2.06-.94 2.06-2.06.94zm-11 1L8.5 8.5l.94-2.06 2.06-.94-2.06-.94L8.5 2.5l-.94 2.06-2.06.94zm10 10l.94 2.06.94-2.06 2.06-.94-2.06-.94-.94-2.06-.94 2.06-2.06.94z\"/><path d=\"M17.41 7.96l-1.37-1.37c-.4-.4-.92-.59-1.43-.59-.52 0-1.04.2-1.43.59L10.3 9.45l-7.72 7.72c-.78.78-.78 2.05 0 2.83L4 21.41c.39.39.9.59 1.41.59.51 0 1.02-.2 1.41-.59l7.78-7.78 2.81-2.81c.8-.78.8-2.07 0-2.86zM5.41 20L4 18.59l7.72-7.72 1.47 1.35L5.41 20z\"/>\n",
              "  </svg>\n",
              "      </button>\n",
              "      \n",
              "  <style>\n",
              "    .colab-df-container {\n",
              "      display:flex;\n",
              "      flex-wrap:wrap;\n",
              "      gap: 12px;\n",
              "    }\n",
              "\n",
              "    .colab-df-convert {\n",
              "      background-color: #E8F0FE;\n",
              "      border: none;\n",
              "      border-radius: 50%;\n",
              "      cursor: pointer;\n",
              "      display: none;\n",
              "      fill: #1967D2;\n",
              "      height: 32px;\n",
              "      padding: 0 0 0 0;\n",
              "      width: 32px;\n",
              "    }\n",
              "\n",
              "    .colab-df-convert:hover {\n",
              "      background-color: #E2EBFA;\n",
              "      box-shadow: 0px 1px 2px rgba(60, 64, 67, 0.3), 0px 1px 3px 1px rgba(60, 64, 67, 0.15);\n",
              "      fill: #174EA6;\n",
              "    }\n",
              "\n",
              "    [theme=dark] .colab-df-convert {\n",
              "      background-color: #3B4455;\n",
              "      fill: #D2E3FC;\n",
              "    }\n",
              "\n",
              "    [theme=dark] .colab-df-convert:hover {\n",
              "      background-color: #434B5C;\n",
              "      box-shadow: 0px 1px 3px 1px rgba(0, 0, 0, 0.15);\n",
              "      filter: drop-shadow(0px 1px 2px rgba(0, 0, 0, 0.3));\n",
              "      fill: #FFFFFF;\n",
              "    }\n",
              "  </style>\n",
              "\n",
              "      <script>\n",
              "        const buttonEl =\n",
              "          document.querySelector('#df-694606f1-a40c-451d-add0-613dc6a5b9b1 button.colab-df-convert');\n",
              "        buttonEl.style.display =\n",
              "          google.colab.kernel.accessAllowed ? 'block' : 'none';\n",
              "\n",
              "        async function convertToInteractive(key) {\n",
              "          const element = document.querySelector('#df-694606f1-a40c-451d-add0-613dc6a5b9b1');\n",
              "          const dataTable =\n",
              "            await google.colab.kernel.invokeFunction('convertToInteractive',\n",
              "                                                     [key], {});\n",
              "          if (!dataTable) return;\n",
              "\n",
              "          const docLinkHtml = 'Like what you see? Visit the ' +\n",
              "            '<a target=\"_blank\" href=https://colab.research.google.com/notebooks/data_table.ipynb>data table notebook</a>'\n",
              "            + ' to learn more about interactive tables.';\n",
              "          element.innerHTML = '';\n",
              "          dataTable['output_type'] = 'display_data';\n",
              "          await google.colab.output.renderOutput(dataTable, element);\n",
              "          const docLink = document.createElement('div');\n",
              "          docLink.innerHTML = docLinkHtml;\n",
              "          element.appendChild(docLink);\n",
              "        }\n",
              "      </script>\n",
              "    </div>\n",
              "  </div>\n",
              "  "
            ],
            "text/plain": [
              "     worst smoothness  worst fractal dimension  Malignant_or_Benign\n",
              "0            0.116182                 0.450062                    1\n",
              "1            0.381521                -0.295042                    1\n",
              "2           -0.471044                -0.133547                    1\n",
              "3           -0.397097                -0.798461                    0\n",
              "4            1.125341                 0.562552                    1\n",
              "..                ...                      ...                  ...\n",
              "393         -0.357949                -1.467273                    0\n",
              "394          2.295444                 6.893154                    0\n",
              "395          0.033535                -0.131320                    1\n",
              "396         -2.669011                -1.009518                    1\n",
              "397         -0.118709                 0.200580                    1\n",
              "\n",
              "[398 rows x 3 columns]"
            ]
          },
          "metadata": {},
          "execution_count": 15
        }
      ],
      "source": [
        "# create a temporary df as temp1 which  include the two variables after standardlization, and one target\n",
        "temp1=pd.concat([worst_smoothness, worst_fractal_dimension,y_train.reset_index().iloc[:,1]], axis=1)\n",
        "temp1"
      ]
    },
    {
      "cell_type": "code",
      "execution_count": 16,
      "metadata": {
        "colab": {
          "base_uri": "https://localhost:8080/",
          "height": 369
        },
        "id": "dQe_g4boLkYi",
        "outputId": "d65f4897-2609-491b-8bed-95b147cd53ae"
      },
      "outputs": [
        {
          "output_type": "display_data",
          "data": {
            "image/png": "[encoded data removed]",
            "text/plain": [
              "<Figure size 472.75x360 with 1 Axes>"
            ]
          },
          "metadata": {
            "needs_background": "light"
          }
        }
      ],
      "source": [
        "import seaborn as sns\n",
        "graph = sns.lmplot(x='worst smoothness',y= 'worst fractal dimension', data=temp1, hue=\"Malignant_or_Benign\")"
      ]
    },
    {
      "cell_type": "markdown",
      "metadata": {
        "id": "Tg8rrJKzLkYi"
      },
      "source": [
        "##### What's different? Based on your observation, what is the advantage of standardization?\n",
        "\n",
        " <font color = 'Blue'>Difference of the standardlization : Fitst,  it can change the data's mean become 0 and the variance become 1,  and it does not change the distributions. Secondly, the another difference is it can also make the data have the same scale with the models.\n",
        "    \n",
        " <font color = 'Blue'> Advantage: The advantage is the feature engineening is really benefit for the Machine Learning. As we know the ML model is distance-based, so when the data have a large difference on the features, it can let the difference decrease and benefit for the models.\n"
      ]
    },
    {
      "cell_type": "markdown",
      "metadata": {
        "id": "aBmo0-W1yZFs"
      },
      "source": [
        "## Part 2: KNN Classifier without Standardization [2 Marks]\n",
        "Normally, standardizing data is a key step in preparing data for a KNN classifier. However, for educational purposes, let's first try to build a model without standardization. Let's create a KNN classifier to predict whether a patient has a malignant or benign tumor. \n",
        "\n",
        "Follow these steps: \n",
        "\n",
        "1.   Train a KNN Classifier using cross-validation on the dataset. Sweep `k` (number of neighbours) from 1 to 100, and show a plot of the mean cross-validation accuracy vs `k`. **[1]**\n",
        "2.   What is the best `k`? What is the highest cross-validation accuracy? **[0.5]**\n",
        "3. Comment on  which ranges of `k` lead to underfitted or overfitted models (hint: compare training and validation curves!). **[0.5]**\n",
        "\n",
        "\n"
      ]
    },
    {
      "cell_type": "code",
      "execution_count": 17,
      "metadata": {
        "id": "cyEV-mVSAMaV"
      },
      "outputs": [],
      "source": [
        "from sklearn import neighbors\n",
        "from sklearn.model_selection import cross_validate"
      ]
    },
    {
      "cell_type": "code",
      "execution_count": 18,
      "metadata": {
        "colab": {
          "base_uri": "https://localhost:8080/"
        },
        "id": "JuTzqbZrLkYi",
        "outputId": "4a5bce04-c0fc-4f3d-f308-476eefcbd7fb"
      },
      "outputs": [
        {
          "output_type": "stream",
          "name": "stdout",
          "text": [
            "the max validation score is 0.9346518987341772\n"
          ]
        }
      ],
      "source": [
        "# 1. Sweep k (number of neighbours) from 1 to 100\n",
        "validation_score=[]\n",
        "train_score=[]\n",
        "for i in range(1,101):\n",
        "    # Train a KNN Classifier \n",
        "    model=neighbors.KNeighborsClassifier(n_neighbors=i)\n",
        "    # using cross-validation on the dataset.\n",
        "    scores = cross_validate (model, X_train, y_train, cv=5, return_train_score=True)\n",
        "    validation_score.append(scores['test_score'].mean())\n",
        "    train_score.append(scores['train_score'].mean())\n",
        "# get the validation df\n",
        "validation=pd.DataFrame(validation_score)\n",
        "validation.index += 1 \n",
        "validation\n",
        "print('the max validation score is',max(validation_score))"
      ]
    },
    {
      "cell_type": "code",
      "execution_count": 19,
      "metadata": {
        "colab": {
          "base_uri": "https://localhost:8080/",
          "height": 312
        },
        "id": "AdSKDmbRLkYj",
        "outputId": "88572dbc-c0df-4052-f2e7-ae6c11c73f98"
      },
      "outputs": [
        {
          "output_type": "execute_result",
          "data": {
            "text/plain": [
              "Text(0.5, 1.0, 'Mean cross-validation accuracy VS k')"
            ]
          },
          "metadata": {},
          "execution_count": 19
        },
        {
          "output_type": "display_data",
          "data": {
            "image/png": "[encoded data removed]",
            "text/plain": [
              "<Figure size 432x288 with 1 Axes>"
            ]
          },
          "metadata": {
            "needs_background": "light"
          }
        }
      ],
      "source": [
        "# show a plot of the mean cross-validation accuracy vs k\n",
        "import matplotlib.pyplot as plt\n",
        "\n",
        "plt.plot(validation_score)\n",
        "plt.xlabel('Number of K')\n",
        "plt.ylabel('Mean Cross-validation accuracy')\n",
        "plt.title('Mean cross-validation accuracy VS k')"
      ]
    },
    {
      "cell_type": "code",
      "execution_count": 20,
      "metadata": {
        "colab": {
          "base_uri": "https://localhost:8080/"
        },
        "id": "P9FTCd2iLkYj",
        "outputId": "45918eec-78a0-489d-dcb5-d570f3f502f8"
      },
      "outputs": [
        {
          "output_type": "stream",
          "name": "stdout",
          "text": [
            "The best K is  [10, 11] and the best accuracy is  0.9346518987341772\n"
          ]
        }
      ],
      "source": [
        "# 2. What is the best k? What is the highest cross-validation accuracy?\n",
        "validation=pd.DataFrame(validation_score)\n",
        "validation.index += 1 \n",
        "validation.columns = ['scores']\n",
        "best_k=list(validation[validation.scores==0.9346518987341772].index)\n",
        "print('The best K is ',best_k, 'and the best accuracy is ',max(validation_score))"
      ]
    },
    {
      "cell_type": "code",
      "execution_count": 21,
      "metadata": {
        "colab": {
          "base_uri": "https://localhost:8080/",
          "height": 312
        },
        "id": "hnbeB0AeLkYj",
        "outputId": "5a3bdfb1-0ae3-4f70-f11d-3b3b3df36b2f"
      },
      "outputs": [
        {
          "output_type": "execute_result",
          "data": {
            "text/plain": [
              "Text(0.5, 1.0, 'Mean cross-validation accuracy VS k')"
            ]
          },
          "metadata": {},
          "execution_count": 21
        },
        {
          "output_type": "display_data",
          "data": {
            "image/png": "[encoded data removed]",
            "text/plain": [
              "<Figure size 432x288 with 1 Axes>"
            ]
          },
          "metadata": {
            "needs_background": "light"
          }
        }
      ],
      "source": [
        "#Comment on which ranges of k lead to underfitted or overfitted models \n",
        "plt.plot(validation_score)\n",
        "plt.plot(train_score)\n",
        "plt.xlabel('Number of K')\n",
        "plt.ylabel('Mean Cross-validation accuracy')\n",
        "plt.title('Mean cross-validation accuracy VS k')\n"
      ]
    },
    {
      "cell_type": "markdown",
      "metadata": {
        "id": "PpBg3Q-NLkYj"
      },
      "source": [
        "##### Summarize\n",
        "\n",
        "<font color = 'Blue'> the highest cross-validation accuracy is 0.9346518987341772, The best K is  10"
      ]
    },
    {
      "cell_type": "markdown",
      "metadata": {
        "id": "KzIgZnBVLkYk"
      },
      "source": [
        " #### 3. Comment on which ranges of k lead to underfitted or overfitted models\n",
        " \n",
        " <font color = 'Blue'> The Yellow line is the training curve and the blue line is the velidation curve. The overfitting part is when k from 0 to 10, at that time, the yellow line (training curve) is very different from the validation curve, which means the model can only predict training data clearly, but for the validation data, it can not predict correctly."
      ]
    },
    {
      "cell_type": "markdown",
      "metadata": {
        "id": "VCyFm5S3srCO"
      },
      "source": [
        "## Part 3: Feature Selection [3 Marks]\n",
        "In this part, we aim to investigate the importance of each feature on the final classification accuracy. \n",
        "If we want to try every possible combination of features, we would have to test  $2^F$ different cases,  where F is the number of features, and in each case, we have to do a hyperparameter search (finding K, in KNN using cross-validation). That will take days!. \n",
        "\n",
        "To find more important features we will use a decision tree. based on a decision tree we can compute feature importance that is a metric for our feature selection (code is provided below).\n",
        "\n",
        "You can use [this link](https://machinelearningmastery.com/calculate-feature-importance-with-python/\n",
        ") to get familiar with extracting the feature impotance order of machine learning algorithms in Python.\n",
        "\n",
        "After we identified and removed the least important feature and evaluated a new KNN model on the new set of features, if the stop conditions (see step 7 below) are not met, we need to repeat the process and remove another feature.\n",
        "\n",
        "\n",
        "Design a function ( `Feature_selector`) that accepts your dataset (X_train , y_train) and a threshold as inputs and: **[1]**\n",
        "1. Fits a decision tree classifier on the training set.\n",
        "\n",
        "2. Extracts the feature importance order of the decision tree model.\n",
        "\n",
        "3. Removes the least important feature based on step 2. \n",
        "4. Then, a KNN model is trained on the remaining features. The number of neighbors (`k`) for each KNN model should be tuned using a 5-fold cross-validation.\n",
        "5. Store the best `mean cross-validation` score and the corresponding `k` (number of neighbours) value in two lists.\n",
        "6. Go back to step 3 and follow all the steps until you meet the stop condition (step 7). \n",
        " \n",
        "7. We will stop this process when (1) there is only one feature left, or (2) our cross-validation accuracy is dropped significantly compared to a model that uses all the features. In this function, we accept a threshold as an input argument. For example, if threshold=0.95 we do not continue removing features if our mean cross-validation accuracy after tuning `k` is bellow **0.95 $\\times$ Full Feature cross-validation accuracy**.\n",
        "\n",
        "8. Your function returns the list of removed features, and the corresponding mean cross-validation accuracy and `k` value when a feature was removed.\n",
        "\n",
        "* Visualize your results by plotting the mean cross-validation accuracy (with a tuned `k` on y axis) vs. the on the number of features (x axis). This plot describes: what is the best cv score with 1 feature, 2 features, 3 features ... and all the features. **[0.5]**\n",
        "\n",
        "* Plot the best value of `k` (y-axis) vs. the number of features. This plot explains the trend of number of neighbours with respect to the number of features.  **[0.5]**\n",
        "\n",
        "* State what is the number of essential features for classification and justify your answer. **[1]**\n",
        "  \n",
        "  \n",
        "\n",
        "\n",
        "\n",
        "\n",
        "\n",
        "\n",
        "\n",
        " "
      ]
    },
    {
      "cell_type": "markdown",
      "metadata": {
        "id": "LPcG6_UIdAaT"
      },
      "source": [
        "You can use the following piece of code to start training a decision tree classifier and obtain its feature importance order. \n",
        "```\n",
        "from sklearn import tree\n",
        "dt = tree.DecisionTreeClassifier()\n",
        "dt.fit(X_train,y_train)\n",
        "importance = dt.feature_importances_\n",
        "```\n"
      ]
    },
    {
      "cell_type": "code",
      "execution_count": 22,
      "metadata": {
        "id": "KyKihdykLkYk"
      },
      "outputs": [],
      "source": [
        "X_train_temp=X_train.copy()\n",
        "X_train_temp.shape\n",
        "my_best_acc=0.9346518987341772"
      ]
    },
    {
      "cell_type": "code",
      "execution_count": 23,
      "metadata": {
        "colab": {
          "base_uri": "https://localhost:8080/"
        },
        "id": "eSyqKAlaLkYk",
        "outputId": "60e50d55-f766-4296-add5-ffa62caf42bd"
      },
      "outputs": [
        {
          "output_type": "execute_result",
          "data": {
            "text/plain": [
              "(398, 30)"
            ]
          },
          "metadata": {},
          "execution_count": 23
        }
      ],
      "source": [
        "X_train_temp.shape"
      ]
    },
    {
      "cell_type": "code",
      "execution_count": 24,
      "metadata": {
        "id": "5Tld2ml3LkYl"
      },
      "outputs": [],
      "source": [
        "# Set a KNN define function\n",
        "def knn_k(X_train, y_train):\n",
        "    validation_score=[]\n",
        "    train_score=[]\n",
        "    for i in range(1,101):\n",
        "        model=neighbors.KNeighborsClassifier(n_neighbors=i)\n",
        "        scores = cross_validate (model, X_train, y_train, cv=5, return_train_score=True)\n",
        "        validation_score.append(scores['test_score'].mean())\n",
        "        acc=max(validation_score)\n",
        "    return acc, validation_score.index(acc)+1\n",
        "\n",
        "# 1. Fits a decision tree classifier on the training set.\n",
        "from sklearn import tree\n",
        "def Feature_selector (X_train, y_train, tr=0.95):\n",
        "    feature_remove=[]\n",
        "    k=[]\n",
        "    mean_acc=[]\n",
        "    \n",
        "    # extract all the features into a dataframe\n",
        "    #X_column_name=pd.DataFrame(df[df.columns[range(30)]].columns) \n",
        "    array_feature=np.array(X_train.columns)\n",
        "    \n",
        "    # 6. Go back to step 3 and follow all the steps until you meet the stop condition\n",
        "    # 7. We will stop this process when (1) there is only one feature left, or (2) our cross-validation accuracy is dropped significantly \n",
        "    while 0.9346518987341772 > tr*my_best_acc and  X_train.shape[1] > 1:\n",
        "\n",
        "        dt = tree.DecisionTreeClassifier()\n",
        "        dt.fit(X_train,y_train)\n",
        "        # 2. Extracts the feature importance order of the decision tree model.\n",
        "        importance = dt.feature_importances_\n",
        "        # get the full df with the order of importance of the feature and the column name\n",
        "        # get the min importance score\n",
        "        min_importance_score=int(min(importance))\n",
        "        # get the first index of the min importance score\n",
        "        # Drop the feature in min_importance_index, drop it though index\n",
        "        importance=np.delete(importance, np.argmin(importance))\n",
        "        # Find the feature we would like to delet, feature_delete is the feature name \n",
        "        feature_delete=array_feature[np.argmin(importance)]\n",
        "        # delete the feature in the arrary_feature \n",
        "        # 3. Removes the least important feature based on step 2.\n",
        "        array_feature=np.delete(array_feature, np.argmin(importance))\n",
        "        # delete the feature columns in the df, X_train\n",
        "        X_train=X_train.drop(columns=[feature_delete])\n",
        "        \n",
        "        # imply the model\n",
        "        #knn_k(X_train, y_train)\n",
        "        #X_train = X_train.copy()\n",
        "        \n",
        "        # 4. Then, a KNN model is trained on the remaining features. \n",
        "        score,k_value = knn_k(X_train,y_train)\n",
        "        # 5. Store the best mean cross-validation score and the corresponding k\n",
        "        mean_acc.append(score)\n",
        "        k.append(k_value) \n",
        "        #### put into delete feature, append in to list\n",
        "        # 8. Your function returns the list of removed features, \n",
        "        feature_remove.append(feature_delete)\n",
        "\n",
        "    return feature_remove, mean_acc, k\n",
        "    "
      ]
    },
    {
      "cell_type": "code",
      "execution_count": 25,
      "metadata": {
        "id": "utrgGS-KLkYl"
      },
      "outputs": [],
      "source": [
        "feature_removed,accuracy,best_k=Feature_selector (X_train_temp, y_train, tr=0.95)"
      ]
    },
    {
      "cell_type": "code",
      "execution_count": 26,
      "metadata": {
        "id": "ytOiL_AGLkYl"
      },
      "outputs": [],
      "source": [
        "# reverse the accuracy \n",
        "accuracy.reverse()"
      ]
    },
    {
      "cell_type": "code",
      "execution_count": 27,
      "metadata": {
        "colab": {
          "base_uri": "https://localhost:8080/"
        },
        "id": "0uB6wokDLkYl",
        "outputId": "aa1a0861-88aa-475f-c94a-15d61b8a5cb3"
      },
      "outputs": [
        {
          "output_type": "execute_result",
          "data": {
            "text/plain": [
              "[0.7062658227848101,\n",
              " 0.7062658227848101,\n",
              " 0.9548417721518987,\n",
              " 0.9548417721518987,\n",
              " 0.9548101265822785,\n",
              " 0.9548101265822785,\n",
              " 0.9548101265822785,\n",
              " 0.9548101265822785,\n",
              " 0.9548101265822785,\n",
              " 0.9548101265822785,\n",
              " 0.9473101265822784,\n",
              " 0.9397151898734177,\n",
              " 0.9447151898734176,\n",
              " 0.9447151898734176,\n",
              " 0.9145886075949367,\n",
              " 0.9145886075949367,\n",
              " 0.9145886075949367,\n",
              " 0.9145886075949367,\n",
              " 0.9145886075949367,\n",
              " 0.9145886075949367,\n",
              " 0.9145886075949367,\n",
              " 0.9145886075949367,\n",
              " 0.9145886075949367,\n",
              " 0.9145886075949367,\n",
              " 0.9145886075949367,\n",
              " 0.9145886075949367,\n",
              " 0.9321518987341773,\n",
              " 0.9321518987341773,\n",
              " 0.9346518987341772]"
            ]
          },
          "metadata": {},
          "execution_count": 27
        }
      ],
      "source": [
        "# reverse the accuracy \n",
        "accuracy"
      ]
    },
    {
      "cell_type": "code",
      "execution_count": 28,
      "metadata": {
        "colab": {
          "base_uri": "https://localhost:8080/",
          "height": 295
        },
        "id": "coKY6Jk9LkYl",
        "outputId": "5b6c3f32-e329-4f99-c48f-0d5393d44491"
      },
      "outputs": [
        {
          "output_type": "display_data",
          "data": {
            "image/png": "[encoded data removed]",
            "text/plain": [
              "<Figure size 432x288 with 1 Axes>"
            ]
          },
          "metadata": {
            "needs_background": "light"
          }
        }
      ],
      "source": [
        "import matplotlib.pyplot as plt\n",
        "# plotting the mean cross-validation accuracy (with a tuned k on y axis) vs. the on the number of features (x axis). \n",
        "plt.plot( accuracy)\n",
        "plt.title('The mean cross-validation accuracy for the VS the number of features')\n",
        "plt.xlabel('Number of feature')\n",
        "plt.ylabel('The mean cross-validation accuracy')\n",
        "plt.show()"
      ]
    },
    {
      "cell_type": "code",
      "execution_count": 29,
      "metadata": {
        "id": "HpoijXI6LkYm"
      },
      "outputs": [],
      "source": [
        "# reverse the best_k\n",
        "best_k.reverse()"
      ]
    },
    {
      "cell_type": "code",
      "execution_count": 30,
      "metadata": {
        "colab": {
          "base_uri": "https://localhost:8080/"
        },
        "id": "29mE0eg1LkYm",
        "outputId": "d9034f39-ae62-4f82-b1a5-e9851b8085c6"
      },
      "outputs": [
        {
          "output_type": "execute_result",
          "data": {
            "text/plain": [
              "[31,\n",
              " 31,\n",
              " 11,\n",
              " 11,\n",
              " 8,\n",
              " 8,\n",
              " 5,\n",
              " 5,\n",
              " 5,\n",
              " 5,\n",
              " 4,\n",
              " 6,\n",
              " 3,\n",
              " 3,\n",
              " 34,\n",
              " 34,\n",
              " 34,\n",
              " 34,\n",
              " 34,\n",
              " 34,\n",
              " 34,\n",
              " 34,\n",
              " 34,\n",
              " 34,\n",
              " 34,\n",
              " 34,\n",
              " 7,\n",
              " 7,\n",
              " 10]"
            ]
          },
          "metadata": {},
          "execution_count": 30
        }
      ],
      "source": [
        "# reverse the best_k\n",
        "best_k"
      ]
    },
    {
      "cell_type": "code",
      "execution_count": 31,
      "metadata": {
        "colab": {
          "base_uri": "https://localhost:8080/",
          "height": 295
        },
        "id": "C8vzSph7LkYm",
        "outputId": "97172c98-143c-48b1-b9d0-d305765bccba"
      },
      "outputs": [
        {
          "output_type": "display_data",
          "data": {
            "image/png": "[encoded data removed]",
            "text/plain": [
              "<Figure size 432x288 with 1 Axes>"
            ]
          },
          "metadata": {
            "needs_background": "light"
          }
        }
      ],
      "source": [
        "# Plot the best value of k (y-axis) vs. the number of features.\n",
        "plt.plot(best_k)\n",
        "plt.title('The best value of k (y-axis) vs. the number of features.')\n",
        "plt.xlabel('Number of feature')\n",
        "plt.ylabel('The best value of k')\n",
        "plt.show()"
      ]
    },
    {
      "cell_type": "markdown",
      "metadata": {
        "id": "Px-UWAWvLkYm"
      },
      "source": [
        "##### State what is the number of essential features for classification and justify your answer.\n",
        "\n",
        "<font color = 'Blue'> For my graph, as we can see the accuracy shows that it is the highest when there are 10 features. The highest accuracy is 0.9346518987341772, which is 9 feature"
      ]
    },
    {
      "cell_type": "markdown",
      "metadata": {
        "id": "GTXjb1sWmDZL"
      },
      "source": [
        "## Part 4: Standardization [1 Marks]\n",
        "\n",
        "Standardizing the data usually means scaling our data to have a mean of zero and a standard deviation of one. \n",
        "\n",
        "**Note:** When we standardize a dataset, do we care if the data points are in our training set or test set? Yes! The training set is available for us to train a model - we can use it however we want. The test set, however, represents a subset of data that is not available for us during training. For example, the test set can represent the data that someone who bought our model would use to see how the model performs (which they are not willing to share with us).\n",
        "Therefore, we cannot compute the mean or standard deviation of the whole dataset to standardize it - we can only calculate the mean and standard deviation of the training set. However, when we sell a model to someone, we can say what our scalers (mean and standard deviation of our training set) was. They can scale their data (test set) with our training set's mean and standard deviation. Of course, there is no guarantee that the test set would have a mean of zero and a standard deviation of one, but it should work fine.\n",
        "\n",
        "**To summarize: We fit the StandardScaler only on the training set. We transform both training and test sets with that scaler.**\n",
        "\n",
        "1. Standardize the training  and test data ([Help](https://scikit-learn.org/stable/modules/preprocessing.html)) \n",
        "\n",
        "2. Call your ``Feature_selector`` function on the standardized training data with a threshold of 95\\%. \n",
        " * Plot the Cross validation accuracy when we have the standardized data (this part) and the original training data (last part) vs. the Number of features in a single plot (to compare them easily).\n",
        "\n",
        "3. Discuss how standardization (helped/hurt) your model and its performance? Discuss which cases lead to a higher cross validation accuracy (how many features? which features? What K?)\n"
      ]
    },
    {
      "cell_type": "code",
      "execution_count": 32,
      "metadata": {
        "id": "xAwAGR6_2bu3"
      },
      "outputs": [],
      "source": [
        "# 1. Standardize the training and test data\n",
        "from sklearn import preprocessing\n",
        "\n",
        "scaler = preprocessing.StandardScaler().fit(X_train) \n",
        "\n",
        "X_train_scaled = scaler.transform(X_train)\n",
        "X_test_scaled = scaler.transform(X_test)\n"
      ]
    },
    {
      "cell_type": "code",
      "execution_count": 33,
      "metadata": {
        "colab": {
          "base_uri": "https://localhost:8080/",
          "height": 522
        },
        "id": "Lc-9Z6YoLkYm",
        "outputId": "b14f5ec9-17be-47b5-89e5-8aee8eb3b69d"
      },
      "outputs": [
        {
          "output_type": "execute_result",
          "data": {
            "text/html": [
              "\n",
              "  <div id=\"df-24aca5d7-4a58-4304-928f-7238d725b04f\">\n",
              "    <div class=\"colab-df-container\">\n",
              "      <div>\n",
              "<style scoped>\n",
              "    .dataframe tbody tr th:only-of-type {\n",
              "        vertical-align: middle;\n",
              "    }\n",
              "\n",
              "    .dataframe tbody tr th {\n",
              "        vertical-align: top;\n",
              "    }\n",
              "\n",
              "    .dataframe thead th {\n",
              "        text-align: right;\n",
              "    }\n",
              "</style>\n",
              "<table border=\"1\" class=\"dataframe\">\n",
              "  <thead>\n",
              "    <tr style=\"text-align: right;\">\n",
              "      <th></th>\n",
              "      <th>mean radius</th>\n",
              "      <th>mean texture</th>\n",
              "      <th>mean perimeter</th>\n",
              "      <th>mean area</th>\n",
              "      <th>mean smoothness</th>\n",
              "      <th>mean compactness</th>\n",
              "      <th>mean concavity</th>\n",
              "      <th>mean concave points</th>\n",
              "      <th>mean symmetry</th>\n",
              "      <th>mean fractal dimension</th>\n",
              "      <th>radius error</th>\n",
              "      <th>texture error</th>\n",
              "      <th>perimeter error</th>\n",
              "      <th>area error</th>\n",
              "      <th>smoothness error</th>\n",
              "      <th>compactness error</th>\n",
              "      <th>concavity error</th>\n",
              "      <th>concave points error</th>\n",
              "      <th>symmetry error</th>\n",
              "      <th>fractal dimension error</th>\n",
              "      <th>worst radius</th>\n",
              "      <th>worst texture</th>\n",
              "      <th>worst perimeter</th>\n",
              "      <th>worst area</th>\n",
              "      <th>worst smoothness</th>\n",
              "      <th>worst compactness</th>\n",
              "      <th>worst concavity</th>\n",
              "      <th>worst concave points</th>\n",
              "      <th>worst symmetry</th>\n",
              "      <th>worst fractal dimension</th>\n",
              "    </tr>\n",
              "  </thead>\n",
              "  <tbody>\n",
              "    <tr>\n",
              "      <th>0</th>\n",
              "      <td>-0.749980</td>\n",
              "      <td>-1.099787</td>\n",
              "      <td>-0.741586</td>\n",
              "      <td>-0.701887</td>\n",
              "      <td>0.584593</td>\n",
              "      <td>-0.427726</td>\n",
              "      <td>-0.457550</td>\n",
              "      <td>-0.760550</td>\n",
              "      <td>-0.099860</td>\n",
              "      <td>0.451444</td>\n",
              "      <td>-0.700612</td>\n",
              "      <td>-0.069762</td>\n",
              "      <td>-0.616731</td>\n",
              "      <td>-0.543408</td>\n",
              "      <td>-0.709153</td>\n",
              "      <td>-0.235489</td>\n",
              "      <td>0.362090</td>\n",
              "      <td>-0.621777</td>\n",
              "      <td>-0.241390</td>\n",
              "      <td>-0.045963</td>\n",
              "      <td>-0.798483</td>\n",
              "      <td>-0.591967</td>\n",
              "      <td>-0.746602</td>\n",
              "      <td>-0.714529</td>\n",
              "      <td>0.116328</td>\n",
              "      <td>-0.341255</td>\n",
              "      <td>-0.046272</td>\n",
              "      <td>-0.623597</td>\n",
              "      <td>0.077542</td>\n",
              "      <td>0.450628</td>\n",
              "    </tr>\n",
              "    <tr>\n",
              "      <th>1</th>\n",
              "      <td>-1.028214</td>\n",
              "      <td>-0.139262</td>\n",
              "      <td>-1.029804</td>\n",
              "      <td>-0.894732</td>\n",
              "      <td>0.742882</td>\n",
              "      <td>-0.731843</td>\n",
              "      <td>-0.843301</td>\n",
              "      <td>-0.808805</td>\n",
              "      <td>-1.159759</td>\n",
              "      <td>0.489386</td>\n",
              "      <td>-0.887604</td>\n",
              "      <td>0.650381</td>\n",
              "      <td>-0.869191</td>\n",
              "      <td>-0.629005</td>\n",
              "      <td>0.661884</td>\n",
              "      <td>-0.936002</td>\n",
              "      <td>-0.460600</td>\n",
              "      <td>-0.423483</td>\n",
              "      <td>-0.305031</td>\n",
              "      <td>-0.158707</td>\n",
              "      <td>-1.068703</td>\n",
              "      <td>-0.161981</td>\n",
              "      <td>-1.074343</td>\n",
              "      <td>-0.868941</td>\n",
              "      <td>0.382001</td>\n",
              "      <td>-0.970737</td>\n",
              "      <td>-0.954894</td>\n",
              "      <td>-0.761238</td>\n",
              "      <td>-1.071453</td>\n",
              "      <td>-0.295414</td>\n",
              "    </tr>\n",
              "    <tr>\n",
              "      <th>2</th>\n",
              "      <td>-0.538522</td>\n",
              "      <td>-0.299349</td>\n",
              "      <td>-0.568574</td>\n",
              "      <td>-0.550561</td>\n",
              "      <td>-0.714814</td>\n",
              "      <td>-0.731647</td>\n",
              "      <td>-0.639856</td>\n",
              "      <td>-0.668125</td>\n",
              "      <td>0.581758</td>\n",
              "      <td>-0.053477</td>\n",
              "      <td>-0.644071</td>\n",
              "      <td>-0.402987</td>\n",
              "      <td>-0.656119</td>\n",
              "      <td>-0.499806</td>\n",
              "      <td>-0.512840</td>\n",
              "      <td>-0.563799</td>\n",
              "      <td>-0.395430</td>\n",
              "      <td>-0.641247</td>\n",
              "      <td>-0.295240</td>\n",
              "      <td>-0.474919</td>\n",
              "      <td>-0.558512</td>\n",
              "      <td>-0.051227</td>\n",
              "      <td>-0.614110</td>\n",
              "      <td>-0.552748</td>\n",
              "      <td>-0.471637</td>\n",
              "      <td>-0.485919</td>\n",
              "      <td>-0.384602</td>\n",
              "      <td>-0.504704</td>\n",
              "      <td>0.349008</td>\n",
              "      <td>-0.133716</td>\n",
              "    </tr>\n",
              "    <tr>\n",
              "      <th>3</th>\n",
              "      <td>1.147577</td>\n",
              "      <td>-0.146430</td>\n",
              "      <td>1.061698</td>\n",
              "      <td>1.035628</td>\n",
              "      <td>-0.762301</td>\n",
              "      <td>-0.380637</td>\n",
              "      <td>-0.091016</td>\n",
              "      <td>0.221141</td>\n",
              "      <td>-0.663712</td>\n",
              "      <td>-1.225303</td>\n",
              "      <td>-0.515663</td>\n",
              "      <td>-1.321940</td>\n",
              "      <td>-0.498094</td>\n",
              "      <td>-0.250449</td>\n",
              "      <td>-1.440862</td>\n",
              "      <td>-0.946767</td>\n",
              "      <td>-0.599350</td>\n",
              "      <td>-0.847056</td>\n",
              "      <td>-1.188652</td>\n",
              "      <td>-1.005230</td>\n",
              "      <td>0.998276</td>\n",
              "      <td>0.134448</td>\n",
              "      <td>0.914190</td>\n",
              "      <td>0.863760</td>\n",
              "      <td>-0.397597</td>\n",
              "      <td>-0.057793</td>\n",
              "      <td>0.441794</td>\n",
              "      <td>0.638339</td>\n",
              "      <td>0.495789</td>\n",
              "      <td>-0.799466</td>\n",
              "    </tr>\n",
              "    <tr>\n",
              "      <th>4</th>\n",
              "      <td>-2.004538</td>\n",
              "      <td>-1.376954</td>\n",
              "      <td>-1.962370</td>\n",
              "      <td>-1.415904</td>\n",
              "      <td>1.476766</td>\n",
              "      <td>-0.557221</td>\n",
              "      <td>-1.137578</td>\n",
              "      <td>-1.263267</td>\n",
              "      <td>0.439011</td>\n",
              "      <td>2.266825</td>\n",
              "      <td>-0.630106</td>\n",
              "      <td>0.550613</td>\n",
              "      <td>-0.623375</td>\n",
              "      <td>-0.633968</td>\n",
              "      <td>1.122045</td>\n",
              "      <td>-0.848096</td>\n",
              "      <td>-1.094086</td>\n",
              "      <td>-1.994631</td>\n",
              "      <td>0.757273</td>\n",
              "      <td>0.138526</td>\n",
              "      <td>-1.699888</td>\n",
              "      <td>-0.976348</td>\n",
              "      <td>-1.665615</td>\n",
              "      <td>-1.187480</td>\n",
              "      <td>1.126757</td>\n",
              "      <td>-0.867778</td>\n",
              "      <td>-1.391304</td>\n",
              "      <td>-1.756275</td>\n",
              "      <td>0.063338</td>\n",
              "      <td>0.563260</td>\n",
              "    </tr>\n",
              "    <tr>\n",
              "      <th>...</th>\n",
              "      <td>...</td>\n",
              "      <td>...</td>\n",
              "      <td>...</td>\n",
              "      <td>...</td>\n",
              "      <td>...</td>\n",
              "      <td>...</td>\n",
              "      <td>...</td>\n",
              "      <td>...</td>\n",
              "      <td>...</td>\n",
              "      <td>...</td>\n",
              "      <td>...</td>\n",
              "      <td>...</td>\n",
              "      <td>...</td>\n",
              "      <td>...</td>\n",
              "      <td>...</td>\n",
              "      <td>...</td>\n",
              "      <td>...</td>\n",
              "      <td>...</td>\n",
              "      <td>...</td>\n",
              "      <td>...</td>\n",
              "      <td>...</td>\n",
              "      <td>...</td>\n",
              "      <td>...</td>\n",
              "      <td>...</td>\n",
              "      <td>...</td>\n",
              "      <td>...</td>\n",
              "      <td>...</td>\n",
              "      <td>...</td>\n",
              "      <td>...</td>\n",
              "      <td>...</td>\n",
              "    </tr>\n",
              "    <tr>\n",
              "      <th>393</th>\n",
              "      <td>1.286694</td>\n",
              "      <td>0.188082</td>\n",
              "      <td>1.154672</td>\n",
              "      <td>1.202251</td>\n",
              "      <td>-0.521270</td>\n",
              "      <td>-0.887630</td>\n",
              "      <td>-0.110105</td>\n",
              "      <td>0.228545</td>\n",
              "      <td>-0.917089</td>\n",
              "      <td>-1.851347</td>\n",
              "      <td>-0.275196</td>\n",
              "      <td>-0.682881</td>\n",
              "      <td>-0.238991</td>\n",
              "      <td>-0.093320</td>\n",
              "      <td>0.205571</td>\n",
              "      <td>-0.830253</td>\n",
              "      <td>-0.175041</td>\n",
              "      <td>0.504107</td>\n",
              "      <td>-0.134915</td>\n",
              "      <td>-0.781642</td>\n",
              "      <td>0.726040</td>\n",
              "      <td>-0.201071</td>\n",
              "      <td>0.617827</td>\n",
              "      <td>0.572352</td>\n",
              "      <td>-0.358400</td>\n",
              "      <td>-0.895147</td>\n",
              "      <td>-0.246265</td>\n",
              "      <td>0.216119</td>\n",
              "      <td>-0.512738</td>\n",
              "      <td>-1.469120</td>\n",
              "    </tr>\n",
              "    <tr>\n",
              "      <th>394</th>\n",
              "      <td>-0.480093</td>\n",
              "      <td>1.158165</td>\n",
              "      <td>-0.338161</td>\n",
              "      <td>-0.507950</td>\n",
              "      <td>1.591885</td>\n",
              "      <td>2.658965</td>\n",
              "      <td>1.774450</td>\n",
              "      <td>0.917898</td>\n",
              "      <td>0.795879</td>\n",
              "      <td>2.887031</td>\n",
              "      <td>-0.379762</td>\n",
              "      <td>0.715684</td>\n",
              "      <td>-0.392745</td>\n",
              "      <td>-0.350513</td>\n",
              "      <td>0.057900</td>\n",
              "      <td>2.799591</td>\n",
              "      <td>1.618900</td>\n",
              "      <td>0.451161</td>\n",
              "      <td>-0.307478</td>\n",
              "      <td>2.408576</td>\n",
              "      <td>-0.256027</td>\n",
              "      <td>2.466795</td>\n",
              "      <td>-0.293051</td>\n",
              "      <td>-0.306224</td>\n",
              "      <td>2.298333</td>\n",
              "      <td>5.243276</td>\n",
              "      <td>4.333890</td>\n",
              "      <td>1.612342</td>\n",
              "      <td>2.326606</td>\n",
              "      <td>6.901830</td>\n",
              "    </tr>\n",
              "    <tr>\n",
              "      <th>395</th>\n",
              "      <td>-1.321473</td>\n",
              "      <td>-0.208553</td>\n",
              "      <td>-1.314385</td>\n",
              "      <td>-1.046877</td>\n",
              "      <td>0.318380</td>\n",
              "      <td>-0.873503</td>\n",
              "      <td>-0.790390</td>\n",
              "      <td>-0.904293</td>\n",
              "      <td>-1.074111</td>\n",
              "      <td>1.013278</td>\n",
              "      <td>0.336531</td>\n",
              "      <td>0.077169</td>\n",
              "      <td>0.190000</td>\n",
              "      <td>-0.219104</td>\n",
              "      <td>-0.051629</td>\n",
              "      <td>-0.958603</td>\n",
              "      <td>-0.271396</td>\n",
              "      <td>-0.873359</td>\n",
              "      <td>-0.120229</td>\n",
              "      <td>-0.387989</td>\n",
              "      <td>-0.875113</td>\n",
              "      <td>-0.083802</td>\n",
              "      <td>-0.928196</td>\n",
              "      <td>-0.761422</td>\n",
              "      <td>0.033577</td>\n",
              "      <td>-0.967479</td>\n",
              "      <td>-0.798578</td>\n",
              "      <td>-0.986219</td>\n",
              "      <td>-0.691085</td>\n",
              "      <td>-0.131485</td>\n",
              "    </tr>\n",
              "    <tr>\n",
              "      <th>396</th>\n",
              "      <td>-1.242455</td>\n",
              "      <td>-0.232447</td>\n",
              "      <td>-1.277599</td>\n",
              "      <td>-1.020928</td>\n",
              "      <td>-1.940832</td>\n",
              "      <td>-1.582194</td>\n",
              "      <td>-1.137578</td>\n",
              "      <td>-1.263267</td>\n",
              "      <td>-0.549515</td>\n",
              "      <td>0.266111</td>\n",
              "      <td>-0.188001</td>\n",
              "      <td>6.676362</td>\n",
              "      <td>-0.302106</td>\n",
              "      <td>-0.395723</td>\n",
              "      <td>-1.844334</td>\n",
              "      <td>-1.092187</td>\n",
              "      <td>-1.094086</td>\n",
              "      <td>-1.994631</td>\n",
              "      <td>2.152465</td>\n",
              "      <td>-0.777086</td>\n",
              "      <td>-1.288912</td>\n",
              "      <td>-0.766242</td>\n",
              "      <td>-1.321603</td>\n",
              "      <td>-0.988854</td>\n",
              "      <td>-2.672370</td>\n",
              "      <td>-1.473214</td>\n",
              "      <td>-1.391304</td>\n",
              "      <td>-1.756275</td>\n",
              "      <td>-1.551253</td>\n",
              "      <td>-1.010789</td>\n",
              "    </tr>\n",
              "    <tr>\n",
              "      <th>397</th>\n",
              "      <td>-0.744416</td>\n",
              "      <td>1.131882</td>\n",
              "      <td>-0.720162</td>\n",
              "      <td>-0.705711</td>\n",
              "      <td>-0.278081</td>\n",
              "      <td>-0.038849</td>\n",
              "      <td>0.287048</td>\n",
              "      <td>-0.215195</td>\n",
              "      <td>-1.495216</td>\n",
              "      <td>0.445606</td>\n",
              "      <td>-0.580038</td>\n",
              "      <td>3.082904</td>\n",
              "      <td>-0.441623</td>\n",
              "      <td>-0.490563</td>\n",
              "      <td>0.425679</td>\n",
              "      <td>0.280766</td>\n",
              "      <td>0.916390</td>\n",
              "      <td>0.169348</td>\n",
              "      <td>-0.675858</td>\n",
              "      <td>0.380715</td>\n",
              "      <td>-0.782351</td>\n",
              "      <td>1.893481</td>\n",
              "      <td>-0.739628</td>\n",
              "      <td>-0.703476</td>\n",
              "      <td>-0.118858</td>\n",
              "      <td>-0.010875</td>\n",
              "      <td>0.489461</td>\n",
              "      <td>-0.284906</td>\n",
              "      <td>-1.230860</td>\n",
              "      <td>0.200833</td>\n",
              "    </tr>\n",
              "  </tbody>\n",
              "</table>\n",
              "<p>398 rows × 30 columns</p>\n",
              "</div>\n",
              "      <button class=\"colab-df-convert\" onclick=\"convertToInteractive('df-24aca5d7-4a58-4304-928f-7238d725b04f')\"\n",
              "              title=\"Convert this dataframe to an interactive table.\"\n",
              "              style=\"display:none;\">\n",
              "        \n",
              "  <svg xmlns=\"http://www.w3.org/2000/svg\" height=\"24px\"viewBox=\"0 0 24 24\"\n",
              "       width=\"24px\">\n",
              "    <path d=\"M0 0h24v24H0V0z\" fill=\"none\"/>\n",
              "    <path d=\"M18.56 5.44l.94 2.06.94-2.06 2.06-.94-2.06-.94-.94-2.06-.94 2.06-2.06.94zm-11 1L8.5 8.5l.94-2.06 2.06-.94-2.06-.94L8.5 2.5l-.94 2.06-2.06.94zm10 10l.94 2.06.94-2.06 2.06-.94-2.06-.94-.94-2.06-.94 2.06-2.06.94z\"/><path d=\"M17.41 7.96l-1.37-1.37c-.4-.4-.92-.59-1.43-.59-.52 0-1.04.2-1.43.59L10.3 9.45l-7.72 7.72c-.78.78-.78 2.05 0 2.83L4 21.41c.39.39.9.59 1.41.59.51 0 1.02-.2 1.41-.59l7.78-7.78 2.81-2.81c.8-.78.8-2.07 0-2.86zM5.41 20L4 18.59l7.72-7.72 1.47 1.35L5.41 20z\"/>\n",
              "  </svg>\n",
              "      </button>\n",
              "      \n",
              "  <style>\n",
              "    .colab-df-container {\n",
              "      display:flex;\n",
              "      flex-wrap:wrap;\n",
              "      gap: 12px;\n",
              "    }\n",
              "\n",
              "    .colab-df-convert {\n",
              "      background-color: #E8F0FE;\n",
              "      border: none;\n",
              "      border-radius: 50%;\n",
              "      cursor: pointer;\n",
              "      display: none;\n",
              "      fill: #1967D2;\n",
              "      height: 32px;\n",
              "      padding: 0 0 0 0;\n",
              "      width: 32px;\n",
              "    }\n",
              "\n",
              "    .colab-df-convert:hover {\n",
              "      background-color: #E2EBFA;\n",
              "      box-shadow: 0px 1px 2px rgba(60, 64, 67, 0.3), 0px 1px 3px 1px rgba(60, 64, 67, 0.15);\n",
              "      fill: #174EA6;\n",
              "    }\n",
              "\n",
              "    [theme=dark] .colab-df-convert {\n",
              "      background-color: #3B4455;\n",
              "      fill: #D2E3FC;\n",
              "    }\n",
              "\n",
              "    [theme=dark] .colab-df-convert:hover {\n",
              "      background-color: #434B5C;\n",
              "      box-shadow: 0px 1px 3px 1px rgba(0, 0, 0, 0.15);\n",
              "      filter: drop-shadow(0px 1px 2px rgba(0, 0, 0, 0.3));\n",
              "      fill: #FFFFFF;\n",
              "    }\n",
              "  </style>\n",
              "\n",
              "      <script>\n",
              "        const buttonEl =\n",
              "          document.querySelector('#df-24aca5d7-4a58-4304-928f-7238d725b04f button.colab-df-convert');\n",
              "        buttonEl.style.display =\n",
              "          google.colab.kernel.accessAllowed ? 'block' : 'none';\n",
              "\n",
              "        async function convertToInteractive(key) {\n",
              "          const element = document.querySelector('#df-24aca5d7-4a58-4304-928f-7238d725b04f');\n",
              "          const dataTable =\n",
              "            await google.colab.kernel.invokeFunction('convertToInteractive',\n",
              "                                                     [key], {});\n",
              "          if (!dataTable) return;\n",
              "\n",
              "          const docLinkHtml = 'Like what you see? Visit the ' +\n",
              "            '<a target=\"_blank\" href=https://colab.research.google.com/notebooks/data_table.ipynb>data table notebook</a>'\n",
              "            + ' to learn more about interactive tables.';\n",
              "          element.innerHTML = '';\n",
              "          dataTable['output_type'] = 'display_data';\n",
              "          await google.colab.output.renderOutput(dataTable, element);\n",
              "          const docLink = document.createElement('div');\n",
              "          docLink.innerHTML = docLinkHtml;\n",
              "          element.appendChild(docLink);\n",
              "        }\n",
              "      </script>\n",
              "    </div>\n",
              "  </div>\n",
              "  "
            ],
            "text/plain": [
              "     mean radius  mean texture  ...  worst symmetry  worst fractal dimension\n",
              "0      -0.749980     -1.099787  ...        0.077542                 0.450628\n",
              "1      -1.028214     -0.139262  ...       -1.071453                -0.295414\n",
              "2      -0.538522     -0.299349  ...        0.349008                -0.133716\n",
              "3       1.147577     -0.146430  ...        0.495789                -0.799466\n",
              "4      -2.004538     -1.376954  ...        0.063338                 0.563260\n",
              "..           ...           ...  ...             ...                      ...\n",
              "393     1.286694      0.188082  ...       -0.512738                -1.469120\n",
              "394    -0.480093      1.158165  ...        2.326606                 6.901830\n",
              "395    -1.321473     -0.208553  ...       -0.691085                -0.131485\n",
              "396    -1.242455     -0.232447  ...       -1.551253                -1.010789\n",
              "397    -0.744416      1.131882  ...       -1.230860                 0.200833\n",
              "\n",
              "[398 rows x 30 columns]"
            ]
          },
          "metadata": {},
          "execution_count": 33
        }
      ],
      "source": [
        "X_train_scaled=pd.DataFrame(X_train_scaled)\n",
        "X_train_scaled.columns=X_train.columns\n",
        "X_train_scaled"
      ]
    },
    {
      "cell_type": "code",
      "execution_count": 34,
      "metadata": {
        "id": "vCpzptLcLkYn"
      },
      "outputs": [],
      "source": [
        "# 2. Call your Feature_selector function on the standardized training data with a threshold of 95%.\n",
        "feature_removed_scaled,accuracy_scaled,best_k_scaled= Feature_selector(X_train_scaled , y_train , 0.95)"
      ]
    },
    {
      "cell_type": "code",
      "execution_count": 35,
      "metadata": {
        "id": "BubDDgyYLkYn"
      },
      "outputs": [],
      "source": [
        "feature_removed_scaled.reverse()"
      ]
    },
    {
      "cell_type": "code",
      "execution_count": 36,
      "metadata": {
        "id": "WLo7l27ELkYn"
      },
      "outputs": [],
      "source": [
        "best_k_scaled.reverse()"
      ]
    },
    {
      "cell_type": "code",
      "execution_count": 37,
      "metadata": {
        "id": "L4gksosHLkYn"
      },
      "outputs": [],
      "source": [
        "# reverse the accuracy \n",
        "accuracy_scaled.reverse()"
      ]
    },
    {
      "cell_type": "code",
      "execution_count": 38,
      "metadata": {
        "colab": {
          "base_uri": "https://localhost:8080/"
        },
        "id": "Sw9NcrnjLkYn",
        "outputId": "1988d2bf-2cb3-49cd-bc5b-e7f85d51de22"
      },
      "outputs": [
        {
          "output_type": "execute_result",
          "data": {
            "text/plain": [
              "[31,\n",
              " 35,\n",
              " 4,\n",
              " 6,\n",
              " 3,\n",
              " 5,\n",
              " 3,\n",
              " 5,\n",
              " 8,\n",
              " 14,\n",
              " 16,\n",
              " 16,\n",
              " 12,\n",
              " 4,\n",
              " 10,\n",
              " 8,\n",
              " 10,\n",
              " 8,\n",
              " 8,\n",
              " 3,\n",
              " 4,\n",
              " 8,\n",
              " 8,\n",
              " 6,\n",
              " 8,\n",
              " 14,\n",
              " 4,\n",
              " 4,\n",
              " 4]"
            ]
          },
          "metadata": {},
          "execution_count": 38
        }
      ],
      "source": [
        "best_k_scaled"
      ]
    },
    {
      "cell_type": "code",
      "execution_count": 39,
      "metadata": {
        "colab": {
          "base_uri": "https://localhost:8080/"
        },
        "id": "vhg0EGBlLkYn",
        "outputId": "4204c41b-cc98-4dbe-fe85-95b1ea995561"
      },
      "outputs": [
        {
          "output_type": "execute_result",
          "data": {
            "text/plain": [
              "['worst texture',\n",
              " 'worst perimeter',\n",
              " 'worst radius',\n",
              " 'worst compactness',\n",
              " 'worst concavity',\n",
              " 'worst symmetry',\n",
              " 'perimeter error',\n",
              " 'fractal dimension error',\n",
              " 'mean fractal dimension',\n",
              " 'worst concave points',\n",
              " 'worst area',\n",
              " 'worst smoothness',\n",
              " 'symmetry error',\n",
              " 'concave points error',\n",
              " 'compactness error',\n",
              " 'concavity error',\n",
              " 'smoothness error',\n",
              " 'area error',\n",
              " 'texture error',\n",
              " 'radius error',\n",
              " 'mean compactness',\n",
              " 'mean concave points',\n",
              " 'mean symmetry',\n",
              " 'mean smoothness',\n",
              " 'mean area',\n",
              " 'mean perimeter',\n",
              " 'mean concavity',\n",
              " 'mean radius',\n",
              " 'mean texture']"
            ]
          },
          "metadata": {},
          "execution_count": 39
        }
      ],
      "source": [
        "feature_removed_scaled"
      ]
    },
    {
      "cell_type": "code",
      "execution_count": 40,
      "metadata": {
        "colab": {
          "base_uri": "https://localhost:8080/"
        },
        "id": "uSj4YVJNLkYn",
        "outputId": "8c303523-92c5-4d9d-b047-c8fd800b8b13"
      },
      "outputs": [
        {
          "output_type": "execute_result",
          "data": {
            "text/plain": [
              "[0.7062658227848101,\n",
              " 0.7665189873417722,\n",
              " 0.9572468354430379,\n",
              " 0.9573417721518988,\n",
              " 0.9623101265822784,\n",
              " 0.9623734177215189,\n",
              " 0.967373417721519,\n",
              " 0.9623417721518986,\n",
              " 0.9623417721518986,\n",
              " 0.9573101265822785,\n",
              " 0.9623417721518986,\n",
              " 0.9648734177215189,\n",
              " 0.9649050632911391,\n",
              " 0.9674683544303797,\n",
              " 0.9648734177215189,\n",
              " 0.9674050632911392,\n",
              " 0.9623417721518986,\n",
              " 0.9623734177215189,\n",
              " 0.9623734177215189,\n",
              " 0.9573417721518988,\n",
              " 0.957373417721519,\n",
              " 0.9548101265822785,\n",
              " 0.9573101265822785,\n",
              " 0.9547468354430381,\n",
              " 0.9548101265822785,\n",
              " 0.9573417721518988,\n",
              " 0.9648734177215189,\n",
              " 0.9623417721518986,\n",
              " 0.9623734177215189]"
            ]
          },
          "metadata": {},
          "execution_count": 40
        }
      ],
      "source": [
        "accuracy_scaled"
      ]
    },
    {
      "cell_type": "code",
      "execution_count": 41,
      "metadata": {
        "colab": {
          "base_uri": "https://localhost:8080/",
          "height": 295
        },
        "id": "g3mYdmICLkYo",
        "outputId": "5f1e5891-f640-4f7f-bd85-fbf23f2697e8"
      },
      "outputs": [
        {
          "output_type": "display_data",
          "data": {
            "image/png": "[encoded data removed]",
            "text/plain": [
              "<Figure size 432x288 with 1 Axes>"
            ]
          },
          "metadata": {
            "needs_background": "light"
          }
        }
      ],
      "source": [
        "import matplotlib.pyplot as plt\n",
        "# Plot the Cross validation accuracy \n",
        "plt.plot(range(1,30), accuracy_scaled, accuracy)\n",
        "plt.title('The mean cross-validation accuracy_scaled and accuracy for the VS the number of features')\n",
        "\n",
        "plt.xlabel('Number of feature')\n",
        "plt.ylabel('The mean cross-validation accuracy_scaled')\n",
        "\n",
        "plt.show()"
      ]
    },
    {
      "cell_type": "code",
      "execution_count": 42,
      "metadata": {
        "colab": {
          "base_uri": "https://localhost:8080/"
        },
        "id": "TysOEjdJLkYo",
        "outputId": "7b29d6cb-0644-4134-a661-c02158bf3eab"
      },
      "outputs": [
        {
          "output_type": "stream",
          "name": "stdout",
          "text": [
            "The max accuracy under standardlization is 0.9674683544303797\n",
            " the best k under standardlization is 4\n",
            "The feature are ['worst area', 'worst concavity', 'area error', 'worst symmetry', 'mean symmetry', 'radius error', 'worst fractal dimension', 'worst texture', 'fractal dimension error', 'worst compactness', 'worst radius', 'worst smoothness', 'worst perimeter', 'symmetry error', 'concave points error', 'smoothness error', 'concavity error', 'compactness error']\n"
          ]
        }
      ],
      "source": [
        "# the max accuracy\n",
        "print('The max accuracy under standardlization is',max(accuracy_scaled))\n",
        "print (' the best k under standardlization is',best_k_scaled[np.argmax(accuracy_scaled)])\n",
        "\n",
        "print('The feature are',['worst area',\n",
        " 'worst concavity',\n",
        " 'area error',\n",
        " 'worst symmetry',\n",
        " 'mean symmetry',\n",
        " 'radius error',\n",
        " 'worst fractal dimension',\n",
        " 'worst texture',\n",
        " 'fractal dimension error',\n",
        " 'worst compactness',\n",
        " 'worst radius',\n",
        " 'worst smoothness',\n",
        " 'worst perimeter',\n",
        " 'symmetry error',\n",
        " 'concave points error',\n",
        " 'smoothness error',\n",
        " 'concavity error',\n",
        " 'compactness error'])"
      ]
    },
    {
      "cell_type": "markdown",
      "metadata": {
        "id": "ZN-dXkOkLkYo"
      },
      "source": [
        "##### Discuss how standardization (helped/hurt) your model and its performance? Discuss which cases lead to a higher cross validation accuracy (how many features? which features? What K?)\n",
        "\n",
        "<font color = 'Blue'> As we can see the graph which i draw it, the yellow line is the mean cross validation accurancy for the original data and the blue line is the mean cross validation accuracy for the standard data. It is really easy to see that the blue line (standard data) have much higher accuracy than the yellow line (original data). So the standardization helped my model become better performance.\n",
        "    \n",
        "<font color = 'Blue'> In my graph, the high cross validation accuracy is  0.9674050632911392, the best k is 6. The feature are ['worst area', 'worst concavity', 'area error', 'worst symmetry', 'mean symmetry', 'radius error', 'worst fractal dimension', 'worst texture', 'fractal dimension error', 'worst compactness', 'worst radius', 'worst smoothness', 'worst perimeter', 'symmetry error', 'concave points error', 'smoothness error', 'concavity error', 'compactness error']"
      ]
    },
    {
      "cell_type": "markdown",
      "metadata": {
        "id": "HdmuHF4kGH5M"
      },
      "source": [
        "## Part 5: Decision Tree Classifier [1.5 Mark]\n",
        "\n",
        "Train a decision tree classifier on the standardized dataset (read the [documentation](https://scikit-learn.org/stable/modules/generated/sklearn.tree.DecisionTreeClassifier.html) and check the example there.) Tune the `max_depth` and `min_samples_split` parameters of the tree using cross-validation (CV).\n",
        " * Compare the decision tree's performance (mean CV score) with KNN, both using all the features. \n"
      ]
    },
    {
      "cell_type": "code",
      "execution_count": 43,
      "metadata": {
        "id": "laYRhTK4Kytl",
        "colab": {
          "base_uri": "https://localhost:8080/"
        },
        "outputId": "c84f48a9-f3d2-43f7-830d-b9a75ecaa03d"
      },
      "outputs": [
        {
          "output_type": "stream",
          "name": "stdout",
          "text": [
            "Best model prediction percentage: 0.932152 using {'max_depth': 5, 'min_samples_split': 8}\n"
          ]
        }
      ],
      "source": [
        "# use the MIE1624 Grid Search knowledge to write\n",
        "\n",
        "from sklearn.tree import DecisionTreeClassifier\n",
        "from sklearn.model_selection import GridSearchCV\n",
        "cvv_final=[]\n",
        "model = DecisionTreeClassifier(random_state = 0)\n",
        "max_depth = [4,5,6,7,8,9,10,11,12,13,14,15,16,17,18,19,20,21,22,23,24]\n",
        "min_samples_split = [2,3,4,5,6,7,8,9,10,11,12,13,14,15,16,17,18,19,20,21,22,23,24]\n",
        "grid = dict(max_depth=max_depth,min_samples_split=min_samples_split)\n",
        "\n",
        "cvv = cross_validate (model,X_train_scaled, y_train, cv=5, return_train_score=True)['test_score'].mean()\n",
        "cvv_final.append(cvv)\n",
        "k=cvv_final.index(max(cvv_final))+1\n",
        "\n",
        "grid = GridSearchCV(estimator=model, param_grid=grid, scoring='accuracy')\n",
        "result = grid.fit(X_train_scaled, y_train)\n",
        "print(\"Best model prediction percentage: %f using %s\" % (result.best_score_, result.best_params_))"
      ]
    },
    {
      "cell_type": "markdown",
      "metadata": {
        "id": "k7QjKjHn2TZR"
      },
      "source": [
        "## Part 6: Test Data [0.5 Mark]\n",
        "\n",
        "Now that you've created several models, pick your best one (highest CV accuracy) and apply it to the test dataset you had initially set aside. Discuss your results."
      ]
    },
    {
      "cell_type": "code",
      "execution_count": 44,
      "metadata": {
        "colab": {
          "base_uri": "https://localhost:8080/"
        },
        "id": "chXx7s-4LkYo",
        "outputId": "7227b370-3a47-4425-eef3-c727c3501ca4"
      },
      "outputs": [
        {
          "output_type": "stream",
          "name": "stdout",
          "text": [
            "Test Data's Accuracy is:  95.32163742690058\n"
          ]
        }
      ],
      "source": [
        "from sklearn.metrics import accuracy_score\n",
        "knn_test = neighbors.KNeighborsClassifier(n_neighbors=10)\n",
        "knn_test.fit(X_train, y_train)\n",
        "accuracy_final = accuracy_score(y_test, knn_test.predict(X_test))*100\n",
        "print (\"Test Data's Accuracy is: \", accuracy_final)"
      ]
    },
    {
      "cell_type": "code",
      "execution_count": 45,
      "metadata": {
        "id": "acdJ7EijBYqB",
        "colab": {
          "base_uri": "https://localhost:8080/"
        },
        "outputId": "483307ff-0288-4cc3-d090-df50d943b2ed"
      },
      "outputs": [
        {
          "output_type": "stream",
          "name": "stdout",
          "text": [
            "Test Data's Accuracy is:  95.32163742690058\n"
          ]
        },
        {
          "output_type": "stream",
          "name": "stderr",
          "text": [
            "/usr/local/lib/python3.7/dist-packages/sklearn/base.py:451: UserWarning: X does not have valid feature names, but KNeighborsClassifier was fitted with feature names\n",
            "  \"X does not have valid feature names, but\"\n"
          ]
        }
      ],
      "source": [
        "from sklearn.metrics import accuracy_score\n",
        "knn_test = neighbors.KNeighborsClassifier(n_neighbors=10)\n",
        "knn_test.fit(X_train_scaled, y_train)\n",
        "accuracy_final = accuracy_score(y_test, knn_test.predict(X_test_scaled))*100\n",
        "print (\"Test Data's Accuracy is: \", accuracy_final)"
      ]
    },
    {
      "cell_type": "markdown",
      "metadata": {
        "id": "c7JvfGPlLkYp"
      },
      "source": [
        "##### Disscuss your result:\n",
        "\n",
        "<font color = 'Blue'>My best cv is when the n_neighbors=10, and use the KNN. My test data accuracy is 95.90643274853801 after the data Standardization, and when we use the original data, we noticed that the accuracy is 95.32163742690058. So we can say that the data Standardization is really important, and it can increase the test data accuracy.\n"
      ]
    },
    {
      "cell_type": "markdown",
      "metadata": {
        "id": "yhCf82AOe3IS"
      },
      "source": [
        "References:\n",
        "\n",
        "https://towardsdatascience.com/decision-trees-in-machine-learning-641b9c4e8052\n",
        "\n",
        "https://www.analyticsvidhya.com/blog/2021/02/machine-learning-101-decision-tree-algorithm-for-classification/"
      ]
    },
    {
      "cell_type": "code",
      "source": [
        "%%shell\n",
        "jupyter nbconvert --to html /content/W22_APS1070_Project_1.ipynb\n"
      ],
      "metadata": {
        "colab": {
          "base_uri": "https://localhost:8080/"
        },
        "id": "vIyJg85QQ40X",
        "outputId": "c4a353e9-9a9d-4fcb-836f-204cb64b62f8"
      },
      "execution_count": 47,
      "outputs": [
        {
          "output_type": "stream",
          "name": "stdout",
          "text": [
            "[NbConvertApp] Converting notebook /content/W22_APS1070_Project_1.ipynb to html\n",
            "[NbConvertApp] Writing 583847 bytes to /content/W22_APS1070_Project_1.html\n"
          ]
        },
        {
          "output_type": "execute_result",
          "data": {
            "text/plain": [
              ""
            ]
          },
          "metadata": {},
          "execution_count": 47
        }
      ]
    }
  ],
  "metadata": {
    "colab": {
      "collapsed_sections": [],
      "name": "W22_APS1070_Project_1.ipynb",
      "provenance": []
    },
    "kernelspec": {
      "display_name": "Python 3 (ipykernel)",
      "language": "python",
      "name": "python3"
    },
    "language_info": {
      "codemirror_mode": {
        "name": "ipython",
        "version": 3
      },
      "file_extension": ".py",
      "mimetype": "text/x-python",
      "name": "python",
      "nbconvert_exporter": "python",
      "pygments_lexer": "ipython3",
      "version": "3.8.8"
    }
  },
  "nbformat": 4,
  "nbformat_minor": 0
}