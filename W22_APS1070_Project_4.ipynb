{
 "cells": [
  {
   "cell_type": "markdown",
   "metadata": {
    "id": "OTpnyUEJrAjE"
   },
   "source": [
    "# Project 4, APS1070 Winter 2022\n",
    "#### **Linear Regression -  14 points**\n",
    "**Deadline: April 1st, 23:00**\n",
    "\n",
    "**Academic Integrity**\n",
    "\n",
    "This project is individual - it is to be completed on your own. If you have questions, please post your query in the APS1070 Piazza Q&A forums (the answer might be useful to others!).\n",
    "\n",
    "Do not share your code with others, or post your work online. Do not submit code that you have not written yourself. Students suspected of plagiarism on a project, midterm or exam will be referred to the department for formal discipline for breaches of the Student Code of Conduct."
   ]
  },
  {
   "cell_type": "markdown",
   "metadata": {
    "id": "fUdJ6xw3rJIG"
   },
   "source": [
    "Please fill out the following:\n",
    "\n",
    "\n",
    "*   Your **name**: Ningcan Sun\n",
    "*   Your **student number**: 1003270435\n",
    "\n"
   ]
  },
  {
   "cell_type": "markdown",
   "metadata": {
    "id": "jx52WNv84kBs"
   },
   "source": [
    "### How to submit **(HTML [This notebook] + IPYNB + GitHub [Part 7])**\n",
    "\n",
    "1. Download your notebook: `File -> Download .ipynb`\n",
    "\n",
    "2. Click on the Files icon on the far left menu of Colab\n",
    "\n",
    "3. Select & upload your `.ipynb` file you just downloaded, and then obtain its path (right click) (you might need to hit the Refresh button before your file shows up)\n",
    "\n",
    "\n",
    "4. execute the following in a Colab cell:\n",
    "```\n",
    "%%shell\n",
    "jupyter nbconvert --to html /PATH/TO/YOUR/NOTEBOOKFILE.ipynb\n",
    "```\n",
    "\n",
    "5. An HTML version of your notebook will appear in the files, so you can download it.\n",
    "\n",
    "6. Submit **both** <font color='red'>`HTML` and `IPYNB`</font>  files for this notebook on Quercus for grading.\n",
    "\n",
    "7. Make sure you compeleted the last part on <font color='red'>**GitHub**</font> and added your link to the last cell here. The teaching team will view and grade your part 7 on GitHub.\n",
    "\n",
    "\n",
    "\n",
    "Ref: https://stackoverflow.com/a/64487858 \n",
    "\n"
   ]
  },
  {
   "cell_type": "markdown",
   "metadata": {
    "id": "o4UwjkNZ3NGk"
   },
   "source": [
    "## Part 1 - Getting Started [1 marks]"
   ]
  },
  {
   "cell_type": "markdown",
   "metadata": {
    "id": "Y62qieYVbct2"
   },
   "source": [
    "Ailerons are small hinged sections on the outboard portion of a wing used to control the roll of an airplane. In this project, we are going to design a controller to manage the ailerons of an aircraft based on supervised learning.\n",
    "\n",
    "![Aileron](https://www.eecg.utoronto.ca/~hadizade/APS1070/p3Ar.jpg)\n",
    "\n",
    "\n"
   ]
  },
  {
   "cell_type": "markdown",
   "metadata": {
    "id": "sdPttalS9MfU"
   },
   "source": [
    "The following dataset contains 13750 instances, where each instance is a set of 40 features describing the airplane's status. Our goal is to use these features to predict the `Goal` column, which is a command that our controller should issue. We will make our predictions by implementing linear regression."
   ]
  },
  {
   "cell_type": "code",
   "execution_count": 1,
   "metadata": {
    "id": "wVI7N2nWbct3"
   },
   "outputs": [],
   "source": [
    "import pandas as pd\n",
    "import numpy as np\n",
    "\n",
    "df=pd.read_csv(\"https://raw.githubusercontent.com/aps1070-2019/datasets/master/F16L.csv\" , skipinitialspace=True)"
   ]
  },
  {
   "cell_type": "markdown",
   "metadata": {
    "id": "MKRMb9Ju3NGl"
   },
   "source": [
    "Here are the steps to complete this portion:\n",
    "\n",
    "1. Print the dataframe.\n",
    "2. Prepare your dataset as follows: **[0.5]**\n",
    "  *   Using `train_test_split` from Sklearn, split the dataset into training, validation, and test sets ($70\\%$ training, $15\\%$ validation, and $15\\%$ test). When splitting, set `random_state=1`.\n",
    "  *   Standardize the data using `StandardScaler` from sklearn. \n",
    "  *   Insert the first column of all $1$s in the training, validation, and test set.\n",
    " \n",
    "3. Explain the difference between epoch and iteration in the Gradient descent algorithm (SGD/mini-batch)? **[0.5]**"
   ]
  },
  {
   "cell_type": "code",
   "execution_count": 2,
   "metadata": {
    "id": "barDBI-f5Q9s"
   },
   "outputs": [
    {
     "data": {
      "text/html": [
       "<div>\n",
       "<style scoped>\n",
       "    .dataframe tbody tr th:only-of-type {\n",
       "        vertical-align: middle;\n",
       "    }\n",
       "\n",
       "    .dataframe tbody tr th {\n",
       "        vertical-align: top;\n",
       "    }\n",
       "\n",
       "    .dataframe thead th {\n",
       "        text-align: right;\n",
       "    }\n",
       "</style>\n",
       "<table border=\"1\" class=\"dataframe\">\n",
       "  <thead>\n",
       "    <tr style=\"text-align: right;\">\n",
       "      <th></th>\n",
       "      <th>inputs ClimbRate</th>\n",
       "      <th>Sgz</th>\n",
       "      <th>P</th>\n",
       "      <th>Q</th>\n",
       "      <th>CurPitch</th>\n",
       "      <th>CurRoll</th>\n",
       "      <th>AbsRoll</th>\n",
       "      <th>DiffClb</th>\n",
       "      <th>DiffRollRate</th>\n",
       "      <th>DiffDiffClb</th>\n",
       "      <th>...</th>\n",
       "      <th>DiffSeTime8</th>\n",
       "      <th>DiffSeTime9</th>\n",
       "      <th>DiffSeTime10</th>\n",
       "      <th>DiffSeTime11</th>\n",
       "      <th>DiffSeTime12</th>\n",
       "      <th>DiffSeTime13</th>\n",
       "      <th>DiffSeTime14</th>\n",
       "      <th>Alpha</th>\n",
       "      <th>Se</th>\n",
       "      <th>Goal</th>\n",
       "    </tr>\n",
       "  </thead>\n",
       "  <tbody>\n",
       "    <tr>\n",
       "      <th>0</th>\n",
       "      <td>-17</td>\n",
       "      <td>-6</td>\n",
       "      <td>-0.03</td>\n",
       "      <td>0.14</td>\n",
       "      <td>0.59</td>\n",
       "      <td>-0.5</td>\n",
       "      <td>-11</td>\n",
       "      <td>-9</td>\n",
       "      <td>0.015</td>\n",
       "      <td>-0.2</td>\n",
       "      <td>...</td>\n",
       "      <td>0.0</td>\n",
       "      <td>0.0</td>\n",
       "      <td>0.0</td>\n",
       "      <td>0.000</td>\n",
       "      <td>0.0</td>\n",
       "      <td>0.000</td>\n",
       "      <td>0.0</td>\n",
       "      <td>0.6</td>\n",
       "      <td>0.021</td>\n",
       "      <td>-0.0008</td>\n",
       "    </tr>\n",
       "    <tr>\n",
       "      <th>1</th>\n",
       "      <td>-791</td>\n",
       "      <td>15</td>\n",
       "      <td>-0.28</td>\n",
       "      <td>-0.34</td>\n",
       "      <td>1.11</td>\n",
       "      <td>0.9</td>\n",
       "      <td>-10</td>\n",
       "      <td>27</td>\n",
       "      <td>-0.002</td>\n",
       "      <td>4.7</td>\n",
       "      <td>...</td>\n",
       "      <td>0.0</td>\n",
       "      <td>0.0</td>\n",
       "      <td>0.0</td>\n",
       "      <td>0.000</td>\n",
       "      <td>0.0</td>\n",
       "      <td>0.000</td>\n",
       "      <td>0.0</td>\n",
       "      <td>0.4</td>\n",
       "      <td>0.013</td>\n",
       "      <td>-0.0009</td>\n",
       "    </tr>\n",
       "    <tr>\n",
       "      <th>2</th>\n",
       "      <td>-46</td>\n",
       "      <td>48</td>\n",
       "      <td>-0.42</td>\n",
       "      <td>0.07</td>\n",
       "      <td>0.57</td>\n",
       "      <td>0.6</td>\n",
       "      <td>-5</td>\n",
       "      <td>-8</td>\n",
       "      <td>-0.008</td>\n",
       "      <td>0.0</td>\n",
       "      <td>...</td>\n",
       "      <td>0.0</td>\n",
       "      <td>0.0</td>\n",
       "      <td>0.0</td>\n",
       "      <td>0.000</td>\n",
       "      <td>0.0</td>\n",
       "      <td>0.000</td>\n",
       "      <td>0.0</td>\n",
       "      <td>0.5</td>\n",
       "      <td>0.019</td>\n",
       "      <td>-0.0005</td>\n",
       "    </tr>\n",
       "    <tr>\n",
       "      <th>3</th>\n",
       "      <td>496</td>\n",
       "      <td>-5</td>\n",
       "      <td>-0.21</td>\n",
       "      <td>-0.04</td>\n",
       "      <td>0.03</td>\n",
       "      <td>-0.5</td>\n",
       "      <td>-7</td>\n",
       "      <td>6</td>\n",
       "      <td>-0.002</td>\n",
       "      <td>-0.1</td>\n",
       "      <td>...</td>\n",
       "      <td>0.0</td>\n",
       "      <td>0.0</td>\n",
       "      <td>0.0</td>\n",
       "      <td>0.001</td>\n",
       "      <td>0.0</td>\n",
       "      <td>0.001</td>\n",
       "      <td>0.0</td>\n",
       "      <td>0.5</td>\n",
       "      <td>0.017</td>\n",
       "      <td>-0.0005</td>\n",
       "    </tr>\n",
       "    <tr>\n",
       "      <th>4</th>\n",
       "      <td>-124</td>\n",
       "      <td>16</td>\n",
       "      <td>-0.02</td>\n",
       "      <td>0.05</td>\n",
       "      <td>0.61</td>\n",
       "      <td>-0.2</td>\n",
       "      <td>-9</td>\n",
       "      <td>-3</td>\n",
       "      <td>0.000</td>\n",
       "      <td>0.0</td>\n",
       "      <td>...</td>\n",
       "      <td>0.0</td>\n",
       "      <td>0.0</td>\n",
       "      <td>0.0</td>\n",
       "      <td>0.000</td>\n",
       "      <td>0.0</td>\n",
       "      <td>0.000</td>\n",
       "      <td>0.0</td>\n",
       "      <td>0.5</td>\n",
       "      <td>0.018</td>\n",
       "      <td>-0.0006</td>\n",
       "    </tr>\n",
       "  </tbody>\n",
       "</table>\n",
       "<p>5 rows × 41 columns</p>\n",
       "</div>"
      ],
      "text/plain": [
       "   inputs ClimbRate  Sgz     P     Q  CurPitch  CurRoll  AbsRoll  DiffClb  \\\n",
       "0               -17   -6 -0.03  0.14      0.59     -0.5      -11       -9   \n",
       "1              -791   15 -0.28 -0.34      1.11      0.9      -10       27   \n",
       "2               -46   48 -0.42  0.07      0.57      0.6       -5       -8   \n",
       "3               496   -5 -0.21 -0.04      0.03     -0.5       -7        6   \n",
       "4              -124   16 -0.02  0.05      0.61     -0.2       -9       -3   \n",
       "\n",
       "   DiffRollRate  DiffDiffClb  ...  DiffSeTime8  DiffSeTime9  DiffSeTime10  \\\n",
       "0         0.015         -0.2  ...          0.0          0.0           0.0   \n",
       "1        -0.002          4.7  ...          0.0          0.0           0.0   \n",
       "2        -0.008          0.0  ...          0.0          0.0           0.0   \n",
       "3        -0.002         -0.1  ...          0.0          0.0           0.0   \n",
       "4         0.000          0.0  ...          0.0          0.0           0.0   \n",
       "\n",
       "   DiffSeTime11  DiffSeTime12  DiffSeTime13  DiffSeTime14  Alpha     Se  \\\n",
       "0         0.000           0.0         0.000           0.0    0.6  0.021   \n",
       "1         0.000           0.0         0.000           0.0    0.4  0.013   \n",
       "2         0.000           0.0         0.000           0.0    0.5  0.019   \n",
       "3         0.001           0.0         0.001           0.0    0.5  0.017   \n",
       "4         0.000           0.0         0.000           0.0    0.5  0.018   \n",
       "\n",
       "     Goal  \n",
       "0 -0.0008  \n",
       "1 -0.0009  \n",
       "2 -0.0005  \n",
       "3 -0.0005  \n",
       "4 -0.0006  \n",
       "\n",
       "[5 rows x 41 columns]"
      ]
     },
     "execution_count": 2,
     "metadata": {},
     "output_type": "execute_result"
    }
   ],
   "source": [
    "#1.1 Print the dataframe.\n",
    "df.head()"
   ]
  },
  {
   "cell_type": "code",
   "execution_count": 3,
   "metadata": {},
   "outputs": [],
   "source": [
    "#1.2.1 Using train_test_split\n",
    "from sklearn.model_selection import train_test_split\n",
    "\n",
    "X = df.iloc[:,:-1]\n",
    "y = df.iloc[:,-1]\n",
    "\n",
    "X_train, X_val, X_test, y_train, y_val, y_test = 0, 0, 0, 0, 0, 0\n",
    "\n",
    "# first let the train + validation be 85%, test be the 15%\n",
    "X_train, X_test, y_train, y_test = train_test_split(X, y, test_size=0.15, random_state=1)\n",
    "# second we seperate the 15% from 85% be the validation \n",
    "X_train, X_val, y_train, y_val = train_test_split(X_train, y_train, test_size=0.15/0.85, random_state=1)\n"
   ]
  },
  {
   "cell_type": "code",
   "execution_count": 4,
   "metadata": {},
   "outputs": [
    {
     "data": {
      "text/html": [
       "<div>\n",
       "<style scoped>\n",
       "    .dataframe tbody tr th:only-of-type {\n",
       "        vertical-align: middle;\n",
       "    }\n",
       "\n",
       "    .dataframe tbody tr th {\n",
       "        vertical-align: top;\n",
       "    }\n",
       "\n",
       "    .dataframe thead th {\n",
       "        text-align: right;\n",
       "    }\n",
       "</style>\n",
       "<table border=\"1\" class=\"dataframe\">\n",
       "  <thead>\n",
       "    <tr style=\"text-align: right;\">\n",
       "      <th></th>\n",
       "      <th>inputs ClimbRate</th>\n",
       "      <th>Sgz</th>\n",
       "      <th>P</th>\n",
       "      <th>Q</th>\n",
       "      <th>CurPitch</th>\n",
       "      <th>CurRoll</th>\n",
       "      <th>AbsRoll</th>\n",
       "      <th>DiffClb</th>\n",
       "      <th>DiffRollRate</th>\n",
       "      <th>DiffDiffClb</th>\n",
       "      <th>...</th>\n",
       "      <th>DiffSeTime7</th>\n",
       "      <th>DiffSeTime8</th>\n",
       "      <th>DiffSeTime9</th>\n",
       "      <th>DiffSeTime10</th>\n",
       "      <th>DiffSeTime11</th>\n",
       "      <th>DiffSeTime12</th>\n",
       "      <th>DiffSeTime13</th>\n",
       "      <th>DiffSeTime14</th>\n",
       "      <th>Alpha</th>\n",
       "      <th>Se</th>\n",
       "    </tr>\n",
       "  </thead>\n",
       "  <tbody>\n",
       "    <tr>\n",
       "      <th>7510</th>\n",
       "      <td>209</td>\n",
       "      <td>-18</td>\n",
       "      <td>-0.20</td>\n",
       "      <td>-0.05</td>\n",
       "      <td>0.55</td>\n",
       "      <td>-0.5</td>\n",
       "      <td>-6</td>\n",
       "      <td>5</td>\n",
       "      <td>-0.002</td>\n",
       "      <td>-0.2</td>\n",
       "      <td>...</td>\n",
       "      <td>0.000</td>\n",
       "      <td>0.0</td>\n",
       "      <td>0.000</td>\n",
       "      <td>0.0</td>\n",
       "      <td>0.000</td>\n",
       "      <td>0.0</td>\n",
       "      <td>0.001</td>\n",
       "      <td>0.0</td>\n",
       "      <td>0.8</td>\n",
       "      <td>0.027</td>\n",
       "    </tr>\n",
       "    <tr>\n",
       "      <th>12561</th>\n",
       "      <td>307</td>\n",
       "      <td>-19</td>\n",
       "      <td>-0.03</td>\n",
       "      <td>0.10</td>\n",
       "      <td>0.30</td>\n",
       "      <td>2.5</td>\n",
       "      <td>-3</td>\n",
       "      <td>-14</td>\n",
       "      <td>-0.006</td>\n",
       "      <td>0.2</td>\n",
       "      <td>...</td>\n",
       "      <td>0.000</td>\n",
       "      <td>0.0</td>\n",
       "      <td>0.000</td>\n",
       "      <td>0.0</td>\n",
       "      <td>0.000</td>\n",
       "      <td>0.0</td>\n",
       "      <td>0.001</td>\n",
       "      <td>0.0</td>\n",
       "      <td>0.6</td>\n",
       "      <td>0.020</td>\n",
       "    </tr>\n",
       "    <tr>\n",
       "      <th>849</th>\n",
       "      <td>-229</td>\n",
       "      <td>-53</td>\n",
       "      <td>0.30</td>\n",
       "      <td>0.02</td>\n",
       "      <td>1.51</td>\n",
       "      <td>-1.3</td>\n",
       "      <td>-13</td>\n",
       "      <td>3</td>\n",
       "      <td>0.012</td>\n",
       "      <td>-0.2</td>\n",
       "      <td>...</td>\n",
       "      <td>0.000</td>\n",
       "      <td>0.0</td>\n",
       "      <td>0.000</td>\n",
       "      <td>0.0</td>\n",
       "      <td>-0.004</td>\n",
       "      <td>0.0</td>\n",
       "      <td>-0.004</td>\n",
       "      <td>0.0</td>\n",
       "      <td>1.2</td>\n",
       "      <td>0.042</td>\n",
       "    </tr>\n",
       "    <tr>\n",
       "      <th>9191</th>\n",
       "      <td>-55</td>\n",
       "      <td>-21</td>\n",
       "      <td>-0.38</td>\n",
       "      <td>0.06</td>\n",
       "      <td>0.59</td>\n",
       "      <td>0.7</td>\n",
       "      <td>-10</td>\n",
       "      <td>-3</td>\n",
       "      <td>-0.001</td>\n",
       "      <td>-0.2</td>\n",
       "      <td>...</td>\n",
       "      <td>0.000</td>\n",
       "      <td>0.0</td>\n",
       "      <td>0.000</td>\n",
       "      <td>0.0</td>\n",
       "      <td>0.000</td>\n",
       "      <td>0.0</td>\n",
       "      <td>0.000</td>\n",
       "      <td>0.0</td>\n",
       "      <td>0.5</td>\n",
       "      <td>0.019</td>\n",
       "    </tr>\n",
       "    <tr>\n",
       "      <th>8351</th>\n",
       "      <td>-257</td>\n",
       "      <td>-44</td>\n",
       "      <td>-0.24</td>\n",
       "      <td>-0.07</td>\n",
       "      <td>0.70</td>\n",
       "      <td>-0.5</td>\n",
       "      <td>-6</td>\n",
       "      <td>6</td>\n",
       "      <td>0.007</td>\n",
       "      <td>0.5</td>\n",
       "      <td>...</td>\n",
       "      <td>0.000</td>\n",
       "      <td>0.0</td>\n",
       "      <td>0.000</td>\n",
       "      <td>0.0</td>\n",
       "      <td>0.000</td>\n",
       "      <td>0.0</td>\n",
       "      <td>-0.002</td>\n",
       "      <td>0.0</td>\n",
       "      <td>0.5</td>\n",
       "      <td>0.016</td>\n",
       "    </tr>\n",
       "    <tr>\n",
       "      <th>...</th>\n",
       "      <td>...</td>\n",
       "      <td>...</td>\n",
       "      <td>...</td>\n",
       "      <td>...</td>\n",
       "      <td>...</td>\n",
       "      <td>...</td>\n",
       "      <td>...</td>\n",
       "      <td>...</td>\n",
       "      <td>...</td>\n",
       "      <td>...</td>\n",
       "      <td>...</td>\n",
       "      <td>...</td>\n",
       "      <td>...</td>\n",
       "      <td>...</td>\n",
       "      <td>...</td>\n",
       "      <td>...</td>\n",
       "      <td>...</td>\n",
       "      <td>...</td>\n",
       "      <td>...</td>\n",
       "      <td>...</td>\n",
       "      <td>...</td>\n",
       "    </tr>\n",
       "    <tr>\n",
       "      <th>11358</th>\n",
       "      <td>222</td>\n",
       "      <td>-70</td>\n",
       "      <td>0.32</td>\n",
       "      <td>0.03</td>\n",
       "      <td>0.37</td>\n",
       "      <td>0.4</td>\n",
       "      <td>-8</td>\n",
       "      <td>3</td>\n",
       "      <td>-0.009</td>\n",
       "      <td>-1.5</td>\n",
       "      <td>...</td>\n",
       "      <td>0.000</td>\n",
       "      <td>0.0</td>\n",
       "      <td>0.000</td>\n",
       "      <td>0.0</td>\n",
       "      <td>0.000</td>\n",
       "      <td>0.0</td>\n",
       "      <td>0.000</td>\n",
       "      <td>0.0</td>\n",
       "      <td>0.6</td>\n",
       "      <td>0.020</td>\n",
       "    </tr>\n",
       "    <tr>\n",
       "      <th>1760</th>\n",
       "      <td>-118</td>\n",
       "      <td>-19</td>\n",
       "      <td>-0.46</td>\n",
       "      <td>-0.01</td>\n",
       "      <td>0.63</td>\n",
       "      <td>-0.4</td>\n",
       "      <td>-10</td>\n",
       "      <td>5</td>\n",
       "      <td>-0.003</td>\n",
       "      <td>0.0</td>\n",
       "      <td>...</td>\n",
       "      <td>0.000</td>\n",
       "      <td>0.0</td>\n",
       "      <td>0.000</td>\n",
       "      <td>0.0</td>\n",
       "      <td>0.000</td>\n",
       "      <td>0.0</td>\n",
       "      <td>-0.001</td>\n",
       "      <td>0.0</td>\n",
       "      <td>0.5</td>\n",
       "      <td>0.018</td>\n",
       "    </tr>\n",
       "    <tr>\n",
       "      <th>5426</th>\n",
       "      <td>-539</td>\n",
       "      <td>-26</td>\n",
       "      <td>-0.49</td>\n",
       "      <td>0.10</td>\n",
       "      <td>1.04</td>\n",
       "      <td>0.7</td>\n",
       "      <td>-15</td>\n",
       "      <td>-4</td>\n",
       "      <td>0.003</td>\n",
       "      <td>0.8</td>\n",
       "      <td>...</td>\n",
       "      <td>0.000</td>\n",
       "      <td>0.0</td>\n",
       "      <td>-0.002</td>\n",
       "      <td>0.0</td>\n",
       "      <td>0.000</td>\n",
       "      <td>0.0</td>\n",
       "      <td>0.000</td>\n",
       "      <td>0.0</td>\n",
       "      <td>0.6</td>\n",
       "      <td>0.020</td>\n",
       "    </tr>\n",
       "    <tr>\n",
       "      <th>612</th>\n",
       "      <td>-321</td>\n",
       "      <td>0</td>\n",
       "      <td>-0.48</td>\n",
       "      <td>0.05</td>\n",
       "      <td>0.82</td>\n",
       "      <td>-0.3</td>\n",
       "      <td>-12</td>\n",
       "      <td>-3</td>\n",
       "      <td>-0.004</td>\n",
       "      <td>0.2</td>\n",
       "      <td>...</td>\n",
       "      <td>0.000</td>\n",
       "      <td>0.0</td>\n",
       "      <td>0.000</td>\n",
       "      <td>0.0</td>\n",
       "      <td>0.000</td>\n",
       "      <td>0.0</td>\n",
       "      <td>-0.001</td>\n",
       "      <td>0.0</td>\n",
       "      <td>0.5</td>\n",
       "      <td>0.018</td>\n",
       "    </tr>\n",
       "    <tr>\n",
       "      <th>12864</th>\n",
       "      <td>-352</td>\n",
       "      <td>-18</td>\n",
       "      <td>0.26</td>\n",
       "      <td>-0.02</td>\n",
       "      <td>0.83</td>\n",
       "      <td>0.3</td>\n",
       "      <td>-6</td>\n",
       "      <td>-7</td>\n",
       "      <td>-0.001</td>\n",
       "      <td>0.6</td>\n",
       "      <td>...</td>\n",
       "      <td>-0.002</td>\n",
       "      <td>0.0</td>\n",
       "      <td>0.000</td>\n",
       "      <td>0.0</td>\n",
       "      <td>0.000</td>\n",
       "      <td>0.0</td>\n",
       "      <td>-0.002</td>\n",
       "      <td>0.0</td>\n",
       "      <td>0.5</td>\n",
       "      <td>0.017</td>\n",
       "    </tr>\n",
       "  </tbody>\n",
       "</table>\n",
       "<p>2063 rows × 40 columns</p>\n",
       "</div>"
      ],
      "text/plain": [
       "       inputs ClimbRate  Sgz     P     Q  CurPitch  CurRoll  AbsRoll  DiffClb  \\\n",
       "7510                209  -18 -0.20 -0.05      0.55     -0.5       -6        5   \n",
       "12561               307  -19 -0.03  0.10      0.30      2.5       -3      -14   \n",
       "849                -229  -53  0.30  0.02      1.51     -1.3      -13        3   \n",
       "9191                -55  -21 -0.38  0.06      0.59      0.7      -10       -3   \n",
       "8351               -257  -44 -0.24 -0.07      0.70     -0.5       -6        6   \n",
       "...                 ...  ...   ...   ...       ...      ...      ...      ...   \n",
       "11358               222  -70  0.32  0.03      0.37      0.4       -8        3   \n",
       "1760               -118  -19 -0.46 -0.01      0.63     -0.4      -10        5   \n",
       "5426               -539  -26 -0.49  0.10      1.04      0.7      -15       -4   \n",
       "612                -321    0 -0.48  0.05      0.82     -0.3      -12       -3   \n",
       "12864              -352  -18  0.26 -0.02      0.83      0.3       -6       -7   \n",
       "\n",
       "       DiffRollRate  DiffDiffClb  ...  DiffSeTime7  DiffSeTime8  DiffSeTime9  \\\n",
       "7510         -0.002         -0.2  ...        0.000          0.0        0.000   \n",
       "12561        -0.006          0.2  ...        0.000          0.0        0.000   \n",
       "849           0.012         -0.2  ...        0.000          0.0        0.000   \n",
       "9191         -0.001         -0.2  ...        0.000          0.0        0.000   \n",
       "8351          0.007          0.5  ...        0.000          0.0        0.000   \n",
       "...             ...          ...  ...          ...          ...          ...   \n",
       "11358        -0.009         -1.5  ...        0.000          0.0        0.000   \n",
       "1760         -0.003          0.0  ...        0.000          0.0        0.000   \n",
       "5426          0.003          0.8  ...        0.000          0.0       -0.002   \n",
       "612          -0.004          0.2  ...        0.000          0.0        0.000   \n",
       "12864        -0.001          0.6  ...       -0.002          0.0        0.000   \n",
       "\n",
       "       DiffSeTime10  DiffSeTime11  DiffSeTime12  DiffSeTime13  DiffSeTime14  \\\n",
       "7510            0.0         0.000           0.0         0.001           0.0   \n",
       "12561           0.0         0.000           0.0         0.001           0.0   \n",
       "849             0.0        -0.004           0.0        -0.004           0.0   \n",
       "9191            0.0         0.000           0.0         0.000           0.0   \n",
       "8351            0.0         0.000           0.0        -0.002           0.0   \n",
       "...             ...           ...           ...           ...           ...   \n",
       "11358           0.0         0.000           0.0         0.000           0.0   \n",
       "1760            0.0         0.000           0.0        -0.001           0.0   \n",
       "5426            0.0         0.000           0.0         0.000           0.0   \n",
       "612             0.0         0.000           0.0        -0.001           0.0   \n",
       "12864           0.0         0.000           0.0        -0.002           0.0   \n",
       "\n",
       "       Alpha     Se  \n",
       "7510     0.8  0.027  \n",
       "12561    0.6  0.020  \n",
       "849      1.2  0.042  \n",
       "9191     0.5  0.019  \n",
       "8351     0.5  0.016  \n",
       "...      ...    ...  \n",
       "11358    0.6  0.020  \n",
       "1760     0.5  0.018  \n",
       "5426     0.6  0.020  \n",
       "612      0.5  0.018  \n",
       "12864    0.5  0.017  \n",
       "\n",
       "[2063 rows x 40 columns]"
      ]
     },
     "execution_count": 4,
     "metadata": {},
     "output_type": "execute_result"
    }
   ],
   "source": [
    "X_val"
   ]
  },
  {
   "cell_type": "code",
   "execution_count": 5,
   "metadata": {},
   "outputs": [],
   "source": [
    "# 1.2.2  Standardize the data using StandardScaler from sklearn.\n",
    "from sklearn.preprocessing import StandardScaler\n",
    "scaler = StandardScaler()\n",
    "X_train_scaled = pd.DataFrame(scaler.fit_transform(X_train))\n",
    "X_test_scaled = pd.DataFrame(scaler.transform(X_test))\n",
    "X_val_scaled = pd.DataFrame(scaler.transform(X_val))\n",
    "\n",
    "X_train_scaled.columns = X_train.columns\n",
    "X_test_scaled.columns = X_test.columns\n",
    "X_val_scaled.columns = X_val.columns"
   ]
  },
  {
   "cell_type": "code",
   "execution_count": 6,
   "metadata": {},
   "outputs": [
    {
     "data": {
      "text/html": [
       "<div>\n",
       "<style scoped>\n",
       "    .dataframe tbody tr th:only-of-type {\n",
       "        vertical-align: middle;\n",
       "    }\n",
       "\n",
       "    .dataframe tbody tr th {\n",
       "        vertical-align: top;\n",
       "    }\n",
       "\n",
       "    .dataframe thead th {\n",
       "        text-align: right;\n",
       "    }\n",
       "</style>\n",
       "<table border=\"1\" class=\"dataframe\">\n",
       "  <thead>\n",
       "    <tr style=\"text-align: right;\">\n",
       "      <th></th>\n",
       "      <th>First_column</th>\n",
       "      <th>inputs ClimbRate</th>\n",
       "      <th>Sgz</th>\n",
       "      <th>P</th>\n",
       "      <th>Q</th>\n",
       "      <th>CurPitch</th>\n",
       "      <th>CurRoll</th>\n",
       "      <th>AbsRoll</th>\n",
       "      <th>DiffClb</th>\n",
       "      <th>DiffRollRate</th>\n",
       "      <th>...</th>\n",
       "      <th>DiffSeTime7</th>\n",
       "      <th>DiffSeTime8</th>\n",
       "      <th>DiffSeTime9</th>\n",
       "      <th>DiffSeTime10</th>\n",
       "      <th>DiffSeTime11</th>\n",
       "      <th>DiffSeTime12</th>\n",
       "      <th>DiffSeTime13</th>\n",
       "      <th>DiffSeTime14</th>\n",
       "      <th>Alpha</th>\n",
       "      <th>Se</th>\n",
       "    </tr>\n",
       "  </thead>\n",
       "  <tbody>\n",
       "    <tr>\n",
       "      <th>0</th>\n",
       "      <td>1</td>\n",
       "      <td>0.300454</td>\n",
       "      <td>-0.585755</td>\n",
       "      <td>1.129531</td>\n",
       "      <td>0.917832</td>\n",
       "      <td>0.600308</td>\n",
       "      <td>0.449172</td>\n",
       "      <td>-0.945470</td>\n",
       "      <td>-0.392270</td>\n",
       "      <td>0.223766</td>\n",
       "      <td>...</td>\n",
       "      <td>0.156948</td>\n",
       "      <td>0.0</td>\n",
       "      <td>0.162483</td>\n",
       "      <td>0.003441</td>\n",
       "      <td>0.154774</td>\n",
       "      <td>0.012817</td>\n",
       "      <td>0.152677</td>\n",
       "      <td>0.011771</td>\n",
       "      <td>1.398352</td>\n",
       "      <td>1.427740</td>\n",
       "    </tr>\n",
       "    <tr>\n",
       "      <th>1</th>\n",
       "      <td>1</td>\n",
       "      <td>-1.025053</td>\n",
       "      <td>0.758921</td>\n",
       "      <td>0.244951</td>\n",
       "      <td>1.339421</td>\n",
       "      <td>1.456453</td>\n",
       "      <td>-0.892745</td>\n",
       "      <td>-0.705563</td>\n",
       "      <td>-1.255174</td>\n",
       "      <td>-0.227281</td>\n",
       "      <td>...</td>\n",
       "      <td>0.156948</td>\n",
       "      <td>0.0</td>\n",
       "      <td>0.162483</td>\n",
       "      <td>0.003441</td>\n",
       "      <td>0.154774</td>\n",
       "      <td>0.012817</td>\n",
       "      <td>0.152677</td>\n",
       "      <td>0.011771</td>\n",
       "      <td>0.892517</td>\n",
       "      <td>0.999244</td>\n",
       "    </tr>\n",
       "    <tr>\n",
       "      <th>2</th>\n",
       "      <td>1</td>\n",
       "      <td>0.626084</td>\n",
       "      <td>-0.777851</td>\n",
       "      <td>0.277713</td>\n",
       "      <td>-1.105794</td>\n",
       "      <td>-0.985146</td>\n",
       "      <td>1.274966</td>\n",
       "      <td>1.213696</td>\n",
       "      <td>0.950026</td>\n",
       "      <td>-0.753503</td>\n",
       "      <td>...</td>\n",
       "      <td>0.156948</td>\n",
       "      <td>0.0</td>\n",
       "      <td>0.162483</td>\n",
       "      <td>0.003441</td>\n",
       "      <td>0.154774</td>\n",
       "      <td>0.012817</td>\n",
       "      <td>0.152677</td>\n",
       "      <td>0.011771</td>\n",
       "      <td>-0.624988</td>\n",
       "      <td>-0.857570</td>\n",
       "    </tr>\n",
       "    <tr>\n",
       "      <th>3</th>\n",
       "      <td>1</td>\n",
       "      <td>0.020795</td>\n",
       "      <td>-0.047884</td>\n",
       "      <td>0.638098</td>\n",
       "      <td>1.508056</td>\n",
       "      <td>0.410053</td>\n",
       "      <td>1.171742</td>\n",
       "      <td>0.014159</td>\n",
       "      <td>-2.213957</td>\n",
       "      <td>-1.881121</td>\n",
       "      <td>...</td>\n",
       "      <td>0.156948</td>\n",
       "      <td>0.0</td>\n",
       "      <td>0.162483</td>\n",
       "      <td>0.003441</td>\n",
       "      <td>0.154774</td>\n",
       "      <td>0.012817</td>\n",
       "      <td>0.152677</td>\n",
       "      <td>0.011771</td>\n",
       "      <td>0.892517</td>\n",
       "      <td>0.713581</td>\n",
       "    </tr>\n",
       "    <tr>\n",
       "      <th>4</th>\n",
       "      <td>1</td>\n",
       "      <td>-0.258864</td>\n",
       "      <td>-0.163142</td>\n",
       "      <td>0.638098</td>\n",
       "      <td>-0.852841</td>\n",
       "      <td>0.219799</td>\n",
       "      <td>-0.892745</td>\n",
       "      <td>0.254066</td>\n",
       "      <td>1.141782</td>\n",
       "      <td>-0.527979</td>\n",
       "      <td>...</td>\n",
       "      <td>0.156948</td>\n",
       "      <td>0.0</td>\n",
       "      <td>0.162483</td>\n",
       "      <td>0.003441</td>\n",
       "      <td>0.154774</td>\n",
       "      <td>0.012817</td>\n",
       "      <td>0.152677</td>\n",
       "      <td>0.011771</td>\n",
       "      <td>-0.119153</td>\n",
       "      <td>-0.000579</td>\n",
       "    </tr>\n",
       "    <tr>\n",
       "      <th>...</th>\n",
       "      <td>...</td>\n",
       "      <td>...</td>\n",
       "      <td>...</td>\n",
       "      <td>...</td>\n",
       "      <td>...</td>\n",
       "      <td>...</td>\n",
       "      <td>...</td>\n",
       "      <td>...</td>\n",
       "      <td>...</td>\n",
       "      <td>...</td>\n",
       "      <td>...</td>\n",
       "      <td>...</td>\n",
       "      <td>...</td>\n",
       "      <td>...</td>\n",
       "      <td>...</td>\n",
       "      <td>...</td>\n",
       "      <td>...</td>\n",
       "      <td>...</td>\n",
       "      <td>...</td>\n",
       "      <td>...</td>\n",
       "      <td>...</td>\n",
       "    </tr>\n",
       "    <tr>\n",
       "      <th>9619</th>\n",
       "      <td>1</td>\n",
       "      <td>0.143385</td>\n",
       "      <td>-0.047884</td>\n",
       "      <td>-0.770679</td>\n",
       "      <td>0.243290</td>\n",
       "      <td>1.488162</td>\n",
       "      <td>0.242723</td>\n",
       "      <td>-1.185377</td>\n",
       "      <td>0.278878</td>\n",
       "      <td>1.652082</td>\n",
       "      <td>...</td>\n",
       "      <td>0.156948</td>\n",
       "      <td>0.0</td>\n",
       "      <td>0.162483</td>\n",
       "      <td>0.003441</td>\n",
       "      <td>0.154774</td>\n",
       "      <td>0.012817</td>\n",
       "      <td>0.152677</td>\n",
       "      <td>0.011771</td>\n",
       "      <td>2.410022</td>\n",
       "      <td>2.570395</td>\n",
       "    </tr>\n",
       "    <tr>\n",
       "      <th>9620</th>\n",
       "      <td>1</td>\n",
       "      <td>-0.684099</td>\n",
       "      <td>0.297889</td>\n",
       "      <td>-0.344770</td>\n",
       "      <td>0.074654</td>\n",
       "      <td>1.044235</td>\n",
       "      <td>0.449172</td>\n",
       "      <td>-0.705563</td>\n",
       "      <td>-1.063418</td>\n",
       "      <td>-1.054201</td>\n",
       "      <td>...</td>\n",
       "      <td>-1.639085</td>\n",
       "      <td>0.0</td>\n",
       "      <td>0.162483</td>\n",
       "      <td>0.003441</td>\n",
       "      <td>0.154774</td>\n",
       "      <td>0.012817</td>\n",
       "      <td>0.152677</td>\n",
       "      <td>0.011771</td>\n",
       "      <td>0.892517</td>\n",
       "      <td>0.570749</td>\n",
       "    </tr>\n",
       "    <tr>\n",
       "      <th>9621</th>\n",
       "      <td>1</td>\n",
       "      <td>1.430583</td>\n",
       "      <td>-0.777851</td>\n",
       "      <td>1.457154</td>\n",
       "      <td>1.086467</td>\n",
       "      <td>-1.207110</td>\n",
       "      <td>0.139499</td>\n",
       "      <td>0.014159</td>\n",
       "      <td>-1.446931</td>\n",
       "      <td>-0.828677</td>\n",
       "      <td>...</td>\n",
       "      <td>0.156948</td>\n",
       "      <td>0.0</td>\n",
       "      <td>0.162483</td>\n",
       "      <td>0.003441</td>\n",
       "      <td>0.154774</td>\n",
       "      <td>0.012817</td>\n",
       "      <td>0.152677</td>\n",
       "      <td>0.011771</td>\n",
       "      <td>-0.119153</td>\n",
       "      <td>-0.286243</td>\n",
       "    </tr>\n",
       "    <tr>\n",
       "      <th>9622</th>\n",
       "      <td>1</td>\n",
       "      <td>0.580113</td>\n",
       "      <td>-0.701012</td>\n",
       "      <td>1.555441</td>\n",
       "      <td>-0.346935</td>\n",
       "      <td>0.314926</td>\n",
       "      <td>0.345947</td>\n",
       "      <td>-0.705563</td>\n",
       "      <td>0.758269</td>\n",
       "      <td>0.825162</td>\n",
       "      <td>...</td>\n",
       "      <td>1.952980</td>\n",
       "      <td>0.0</td>\n",
       "      <td>0.162483</td>\n",
       "      <td>0.003441</td>\n",
       "      <td>0.154774</td>\n",
       "      <td>0.012817</td>\n",
       "      <td>0.152677</td>\n",
       "      <td>0.011771</td>\n",
       "      <td>1.398352</td>\n",
       "      <td>1.284908</td>\n",
       "    </tr>\n",
       "    <tr>\n",
       "      <th>9623</th>\n",
       "      <td>1</td>\n",
       "      <td>-1.063362</td>\n",
       "      <td>-2.007268</td>\n",
       "      <td>0.277713</td>\n",
       "      <td>-0.346935</td>\n",
       "      <td>0.695435</td>\n",
       "      <td>0.449172</td>\n",
       "      <td>-0.945470</td>\n",
       "      <td>0.183000</td>\n",
       "      <td>-0.152107</td>\n",
       "      <td>...</td>\n",
       "      <td>0.156948</td>\n",
       "      <td>0.0</td>\n",
       "      <td>0.162483</td>\n",
       "      <td>0.003441</td>\n",
       "      <td>0.154774</td>\n",
       "      <td>0.012817</td>\n",
       "      <td>0.152677</td>\n",
       "      <td>0.011771</td>\n",
       "      <td>-0.119153</td>\n",
       "      <td>-0.286243</td>\n",
       "    </tr>\n",
       "  </tbody>\n",
       "</table>\n",
       "<p>9624 rows × 41 columns</p>\n",
       "</div>"
      ],
      "text/plain": [
       "      First_column  inputs ClimbRate       Sgz         P         Q  CurPitch  \\\n",
       "0                1          0.300454 -0.585755  1.129531  0.917832  0.600308   \n",
       "1                1         -1.025053  0.758921  0.244951  1.339421  1.456453   \n",
       "2                1          0.626084 -0.777851  0.277713 -1.105794 -0.985146   \n",
       "3                1          0.020795 -0.047884  0.638098  1.508056  0.410053   \n",
       "4                1         -0.258864 -0.163142  0.638098 -0.852841  0.219799   \n",
       "...            ...               ...       ...       ...       ...       ...   \n",
       "9619             1          0.143385 -0.047884 -0.770679  0.243290  1.488162   \n",
       "9620             1         -0.684099  0.297889 -0.344770  0.074654  1.044235   \n",
       "9621             1          1.430583 -0.777851  1.457154  1.086467 -1.207110   \n",
       "9622             1          0.580113 -0.701012  1.555441 -0.346935  0.314926   \n",
       "9623             1         -1.063362 -2.007268  0.277713 -0.346935  0.695435   \n",
       "\n",
       "       CurRoll   AbsRoll   DiffClb  DiffRollRate  ...  DiffSeTime7  \\\n",
       "0     0.449172 -0.945470 -0.392270      0.223766  ...     0.156948   \n",
       "1    -0.892745 -0.705563 -1.255174     -0.227281  ...     0.156948   \n",
       "2     1.274966  1.213696  0.950026     -0.753503  ...     0.156948   \n",
       "3     1.171742  0.014159 -2.213957     -1.881121  ...     0.156948   \n",
       "4    -0.892745  0.254066  1.141782     -0.527979  ...     0.156948   \n",
       "...        ...       ...       ...           ...  ...          ...   \n",
       "9619  0.242723 -1.185377  0.278878      1.652082  ...     0.156948   \n",
       "9620  0.449172 -0.705563 -1.063418     -1.054201  ...    -1.639085   \n",
       "9621  0.139499  0.014159 -1.446931     -0.828677  ...     0.156948   \n",
       "9622  0.345947 -0.705563  0.758269      0.825162  ...     1.952980   \n",
       "9623  0.449172 -0.945470  0.183000     -0.152107  ...     0.156948   \n",
       "\n",
       "      DiffSeTime8  DiffSeTime9  DiffSeTime10  DiffSeTime11  DiffSeTime12  \\\n",
       "0             0.0     0.162483      0.003441      0.154774      0.012817   \n",
       "1             0.0     0.162483      0.003441      0.154774      0.012817   \n",
       "2             0.0     0.162483      0.003441      0.154774      0.012817   \n",
       "3             0.0     0.162483      0.003441      0.154774      0.012817   \n",
       "4             0.0     0.162483      0.003441      0.154774      0.012817   \n",
       "...           ...          ...           ...           ...           ...   \n",
       "9619          0.0     0.162483      0.003441      0.154774      0.012817   \n",
       "9620          0.0     0.162483      0.003441      0.154774      0.012817   \n",
       "9621          0.0     0.162483      0.003441      0.154774      0.012817   \n",
       "9622          0.0     0.162483      0.003441      0.154774      0.012817   \n",
       "9623          0.0     0.162483      0.003441      0.154774      0.012817   \n",
       "\n",
       "      DiffSeTime13  DiffSeTime14     Alpha        Se  \n",
       "0         0.152677      0.011771  1.398352  1.427740  \n",
       "1         0.152677      0.011771  0.892517  0.999244  \n",
       "2         0.152677      0.011771 -0.624988 -0.857570  \n",
       "3         0.152677      0.011771  0.892517  0.713581  \n",
       "4         0.152677      0.011771 -0.119153 -0.000579  \n",
       "...            ...           ...       ...       ...  \n",
       "9619      0.152677      0.011771  2.410022  2.570395  \n",
       "9620      0.152677      0.011771  0.892517  0.570749  \n",
       "9621      0.152677      0.011771 -0.119153 -0.286243  \n",
       "9622      0.152677      0.011771  1.398352  1.284908  \n",
       "9623      0.152677      0.011771 -0.119153 -0.286243  \n",
       "\n",
       "[9624 rows x 41 columns]"
      ]
     },
     "execution_count": 6,
     "metadata": {},
     "output_type": "execute_result"
    }
   ],
   "source": [
    "# 1.2.3 Insert the first column of all  1 s in the training, validation, and test set.\n",
    "\n",
    "# for training set \n",
    "X_train_scaled['First_column']=1\n",
    "cols = list(X_train_scaled.columns)\n",
    "cols = [cols[-1]] + cols[:-1]\n",
    "X_train_scaled = X_train_scaled[cols]\n",
    "\n",
    "# for testing set \n",
    "X_test_scaled['First_column']=1\n",
    "cols = list(X_test_scaled.columns)\n",
    "cols = [cols[-1]] + cols[:-1]\n",
    "X_test_scaled = X_test_scaled[cols]\n",
    "\n",
    "# for val set \n",
    "X_val_scaled['First_column']=1\n",
    "cols = list(X_val_scaled.columns)\n",
    "cols = [cols[-1]] + cols[:-1]\n",
    "X_val_scaled = X_val_scaled[cols]\n",
    "\n",
    "\n",
    "#print the training set \n",
    "X_train_scaled"
   ]
  },
  {
   "cell_type": "markdown",
   "metadata": {},
   "source": [
    "### 1.3 Explain the difference between epoch and iteration in the Gradient descent algorithm (SGD/mini-batch)? \n",
    "\n",
    "##### Epoch is number of times that your whole data go through the neural network, the difference between these two is the Iteration is the times that pass using the batch size. For example in the mini-batch and SGD, we need to split the batch size. If we divided into 5 mini-batch, so there is 5 iteration per epoch."
   ]
  },
  {
   "cell_type": "markdown",
   "metadata": {
    "id": "EQ6KBnbpbcuE"
   },
   "source": [
    "## Part 2 - Linear Regression Using Direct Solution [1 marks]"
   ]
  },
  {
   "cell_type": "markdown",
   "metadata": {
    "id": "qh9g1ead3NG-"
   },
   "source": [
    "Implement the direct solution of the linear regression problem on the training set. **[0.5]**\n",
    "\n",
    "**Note:** You should use **``scipy.linalg.inv``** to perform the matrix inversion, as ``numpy.linalg.inv`` may cause numerical issues.\n",
    "\n",
    "Report the root-mean-square error (RMSE) for both the training and validation sets. **[0.5]**\n",
    "\n",
    "You may use `mean_squared_error` from Sklearn for computing the RMSE."
   ]
  },
  {
   "cell_type": "code",
   "execution_count": 7,
   "metadata": {},
   "outputs": [],
   "source": [
    "# Change the df to array\n",
    "X_train_array =np.array(X_train_scaled)\n",
    "y_train_array = np.array(y_train)\n",
    "\n",
    "X_val_array =np.array(X_val_scaled)\n",
    "y_val_array = np.array(y_val)\n",
    "\n",
    "\n",
    "y_test_array = np.array(y_test)"
   ]
  },
  {
   "cell_type": "code",
   "execution_count": 8,
   "metadata": {},
   "outputs": [
    {
     "name": "stdout",
     "output_type": "stream",
     "text": [
      "RMSE training:  0.00018781953559552243\n",
      "RMSE validation:  0.00018203231331176327\n"
     ]
    }
   ],
   "source": [
    "# Define RMSE function\n",
    "from sklearn.metrics import mean_squared_error\n",
    "def rmse(yPred, y):\n",
    "    return np.sqrt(mean_squared_error(yPred, y))\n",
    "\n",
    "# for training RMSE\n",
    "from scipy import linalg\n",
    "import scipy\n",
    "W = np.dot(scipy.linalg.inv(np.dot(X_train_array.T, X_train_array)), np.dot(X_train_array.T, y_train_array))\n",
    "yPred = np.dot(X_train_array, W)\n",
    "print('RMSE training: ', rmse(yPred, y_train_array))\n",
    "\n",
    "# for validation RMSE\n",
    "yPred_val = np.dot(X_val_array, W)\n",
    "print('RMSE validation: ', rmse(yPred_val, y_val_array))\n",
    "RMSE_validation=rmse(yPred_val, y_val_array)"
   ]
  },
  {
   "cell_type": "markdown",
   "metadata": {
    "id": "tceGCk1V3NG_"
   },
   "source": [
    "## Part 3 - Full Batch Gradient Descent [2 marks]"
   ]
  },
  {
   "cell_type": "markdown",
   "metadata": {
    "id": "v9DMAs3I3NHB"
   },
   "source": [
    "We will now implement a \"full batch\" gradient descent algorithm and record the training time for our model. Recall that the full batch gradient descent is,\n",
    " $$w_t = w_{t-1} - \\alpha~g_t$$ where $\\alpha$ is the learning rate and $g_t$ is your gradient, computed on the entire data. \n",
    "\n",
    "Here are the steps for this part:\n",
    "\n",
    "* Implement gradient descent for linear regression using a fixed learning rate of $\\alpha= 0.01$, and iterate until your model's **validation** RMSE converges. \n",
    "\n",
    "  We consider the gradient descent as having converged when RMSE on the validation set using gradient descent satisfies:\n",
    "\n",
    "  $$ RMSE_\\text{GD} \\leq 1.001 \\times RMSE_\\text{Direct Solution}$$\n",
    "\n",
    "  where $RMSE_\\text{Direct Solution}$ is the RMSE on the validation set using the direct solution that you have calculated in the previous part. \n",
    "\n",
    "  We refer to the quantity $RMSE_\\text{Direct Solution}\\times 1.001$ as the convergence threshold (CT).\n",
    "\n",
    "*  Record the training time (from the first iteration until convergence) using the `time.time()` function. Be sure to compute the gradients yourself! Take a look at the code provided in the tutorial. **[0.5]**\n",
    "\n",
    "* Plot the training RMSE and the validation RMSE vs. epoch on the same figure.  **[0.5]**\n",
    "\n",
    "* Comment on overfitting/underfitting by observing the training and validation RMSE **[1]**\n",
    "\n",
    "**Hint**: Initialize your weights with small random numbers (<$0.001$)"
   ]
  },
  {
   "cell_type": "code",
   "execution_count": 9,
   "metadata": {
    "id": "G3KOOJ8m5SAs"
   },
   "outputs": [
    {
     "data": {
      "image/png": "[encoded data removed]",
      "text/plain": [
       "<Figure size 432x288 with 1 Axes>"
      ]
     },
     "metadata": {
      "needs_background": "light"
     },
     "output_type": "display_data"
    },
    {
     "name": "stdout",
     "output_type": "stream",
     "text": [
      "--- Total Training Time: 28.773525953292847 (s) ---\n"
     ]
    }
   ],
   "source": [
    "import time\n",
    "start_time = time.time() ## Records current time\n",
    "\n",
    "import matplotlib.pyplot as plt\n",
    "import math\n",
    "lr=0.01\n",
    "CT=1.001*RMSE_validation\n",
    "rmse_array_train = []\n",
    "rmse_array_val = []\n",
    "w = np.random.uniform(0,0.001,41)\n",
    "# original rmse for validation set\n",
    "y_train_array=y_train_array.reshape((9624,1))\n",
    "rmse_val=rmse(np.dot(X_val_scaled, w.T),y_val)\n",
    "\n",
    "\n",
    "while rmse_val>CT:\n",
    "    # train rmse\n",
    "    y_train_predict= np.dot(X_train_scaled,w.T).reshape (-1,1)\n",
    "    rmse_train =rmse(y_train_predict,y_train)\n",
    "    rmse_array_train.append(rmse(y_train_predict,y_train))\n",
    "    # val rmse\n",
    "    y_val_predict= np.dot(X_val_scaled,w.T).reshape (-1,1)\n",
    "    rmse_val =rmse(y_val_predict,y_val)\n",
    "    rmse_array_val.append(rmse_val)\n",
    "    # gradient\n",
    "    gradient = (1/len(y_train_predict) * np.dot(X_train_scaled.T, y_train_predict-y_train_array)).reshape(1,-1)\n",
    "    w = w - lr * gradient ### weight update\n",
    "    \n",
    "plt.plot(rmse_array_train,label = 'RMSE for train')\n",
    "plt.plot(rmse_array_val,label = 'RMSE for validation')\n",
    "plt.legend()\n",
    "plt.xlabel(\"Epoch\")\n",
    "plt.ylabel(\"RMSE\")\n",
    "plt.show()\n",
    "\n",
    "print(\"--- Total Training Time: %s (s) ---\" % (time.time() - start_time))"
   ]
  },
  {
   "cell_type": "markdown",
   "metadata": {},
   "source": [
    "### 3.4 Comment \n",
    "\n",
    "##### It is not overfit or underfit, the reason is these two line are really close to each other,  so it is a  good fit of the model."
   ]
  },
  {
   "cell_type": "markdown",
   "metadata": {
    "id": "K3xwmhsr3NHS"
   },
   "source": [
    "## Part 4 - Mini-batch and Stochastic Gradient Descent [4 marks]"
   ]
  },
  {
   "cell_type": "markdown",
   "metadata": {
    "id": "rbItQ_C5Af_-"
   },
   "source": [
    "Write a function that performs mini-batch gradient descent until the convergence threshold (CT) is reached. **[1]**\n",
    "\n",
    "The inputs of that function are: \n",
    "  * Input data (training/validation), Batch size, Learning Rate, Convergence Threshold (CT)\n",
    "\n",
    "Your function will return the following arrays: \n",
    " * The final weights after training.\n",
    " * The training RMSE at each epoch.\n",
    " * The validation RMSE at each epoch.\n",
    " * An array that has the elapsed time from the start of the training process to the end of each epoch (e.g., if each epoch takes exactly 2 seconds, the array would look like: [2 4 6 8 ...]).\n",
    "\n",
    "Notes: \n",
    "* For certain batch sizes, GD might not converge to a solution. For that reason, you need to check the RMSE of the validation/training set at each epoch, and if it's getting larger and larger, you should stop the training for that case (the design is up to you!).\n",
    "* CT will help you to know when your model is converged. \n",
    "* **Important: after each epoch, you need to shuffle the entire training set.** This ensures that new mini-batches are selected for every epoch. Hint: use `np.random.permutation`. \n",
    "\n",
    "Let's now use the function to investigate the effect of batch size on convergence. When the batch size is 1, we call that stochastic gradient descent. When the batch size equals the # of training data, it is full-batch (i.e., all data points are used at every iteration). Anywhere in between is mini-batch (we use some of the data).\n",
    "  * Sweep different values for the mini-batch size (at least 5 values that **converge**), each time using a learning rate of $\\alpha= 0.01$. **Hint: Try batch sizes that are powers of two (e.g., 2,4,8,16,32,64,128...).** These batch sizes fit better on the hardware and may achieve higher performance.  **[0.5]**\n",
    "\n",
    "Provide the following $3$ plots:\n",
    "  1.  Plot training and validation RMSE vs. **epoch** for all the **converging** batch sizes (some batch sizes might not converge) in a figure. The X-axis is Epoch # and the Y-axis is RMSE. **[0.5]**\n",
    "  2. Plot training and validation RMSE vs. **time** for all the **converging** batch sizes in a figure. The X-axis is Time, and the Y-axis is RMSE. **[0.5]**\n",
    "  3. Plot Total training time (y-axis) vs. Batch size (x-axis). **[0.5]**\n",
    "\n",
    "Describe your findings, including the main takeaways from each of your plots. **[1]**"
   ]
  },
  {
   "cell_type": "code",
   "execution_count": 10,
   "metadata": {
    "id": "jGQ4_OPkleDq"
   },
   "outputs": [],
   "source": [
    "def mini_batch (X_train, X_val, y_train, y_val, batch_size, lr, CT):\n",
    "    lr=0.01\n",
    "    CT=1.001*RMSE_validation\n",
    "    rmse_array_train = []\n",
    "    rmse_array_val = []\n",
    "    w = np.random.uniform(0,0.001,41)\n",
    "    # original rmse for validation set\n",
    "    y_train_array_1=y_train.reshape((9624,1))\n",
    "    rmse_val=rmse(np.dot(X_val, w.T),y_val)\n",
    "    RMSE_train = []\n",
    "    RMSE_val = []\n",
    "    total_time_sum = []\n",
    "    # set a start time\n",
    "    start_time=time.time()\n",
    "    # start 0\n",
    "    iteration = 0\n",
    "    while rmse_val>CT:\n",
    "        ### batchsize* run的遍数 <6000\n",
    "        permutation = np.random.permutation(9624) # the number of observation of the training data is 9624\n",
    "        X_train_scaled_permutation = X_train.loc[permutation,:] # reorder the train data\n",
    "        y_train_array_permutation = y_train[permutation]\n",
    "        \n",
    "        # batch size is the number of size for each batch\n",
    "        # bs is number of the batch, such as batch 1 or batch 2\n",
    "        # find the best w\n",
    "        for bs in range(0,9624, batch_size):\n",
    "            # 加一个iteration， 一个里面 有9624/batch size 个iteration\n",
    "            iteration+=1\n",
    "            if bs + batch_size>9624: # if it is the last batch\n",
    "                X_batch_permutation = X_train_scaled_permutation.iloc[9624-batch_size:9624, :]\n",
    "                y_batch_permutation = y_train_array_permutation[9624-batch_size:9624, :]\n",
    "            else: # if it is not the last batch\n",
    "                X_batch_permutation = X_train_scaled_permutation.iloc[bs:bs+batch_size, :]\n",
    "                y_batch_permutation = y_train_array_permutation[bs:bs+batch_size, :]\n",
    "            \n",
    "            # train rmse\n",
    "            y_batch_permutation_predict= np.dot(X_batch_permutation,w.T).reshape (-1,1)\n",
    "            \n",
    "            gradient = (1/len(y_batch_permutation_predict) * np.dot(X_batch_permutation.T, y_batch_permutation_predict-y_batch_permutation)).reshape(1,-1)\n",
    "            w = w - lr * gradient ### weight update\n",
    "        if iteration >20000:\n",
    "           return 'It','is','diverge','!!'\n",
    "        \n",
    "        y_train_scaled_permutation_final = np.dot(X_train_scaled_permutation,w.T).reshape (-1,1)\n",
    "        rmse_train = rmse(y_train_scaled_permutation_final,y_train_array_permutation)\n",
    "        RMSE_train.append(rmse_train)\n",
    "        \n",
    "        y_val_scaled_permutation_final = np.dot(X_val,w.T).reshape (-1,1)\n",
    "        rmse_val = rmse(y_val_scaled_permutation_final,y_val)\n",
    "        \n",
    "        RMSE_val.append(rmse_val)\n",
    "        total_time = time.time()-start_time\n",
    "        total_time_sum.append(total_time)\n",
    "        \n",
    "        \n",
    "        #if rmse_val>5*max(RMSE_val[-20:]):\n",
    "            #print('DIVERGE!!!!!!')\n",
    "            #break\n",
    "    \n",
    "    \n",
    "    return w, RMSE_train, RMSE_val,total_time_sum"
   ]
  },
  {
   "cell_type": "code",
   "execution_count": 11,
   "metadata": {},
   "outputs": [
    {
     "data": {
      "text/plain": [
       "('It', 'is', 'diverge', '!!')"
      ]
     },
     "execution_count": 11,
     "metadata": {},
     "output_type": "execute_result"
    }
   ],
   "source": [
    "w_2, RMSE_train_2, RMSE_val_2,total_time_2 =mini_batch(X_train_scaled, X_val_scaled, y_train_array, y_val_array, 2, 0.01, 1.001*RMSE_validation)\n",
    "w_2, RMSE_train_2, RMSE_val_2,total_time_2"
   ]
  },
  {
   "cell_type": "code",
   "execution_count": 12,
   "metadata": {},
   "outputs": [
    {
     "data": {
      "text/plain": [
       "('It', 'is', 'diverge', '!!')"
      ]
     },
     "execution_count": 12,
     "metadata": {},
     "output_type": "execute_result"
    }
   ],
   "source": [
    "w_4, RMSE_train_4, RMSE_val_4,total_time_4 =mini_batch(X_train_scaled, X_val_scaled, y_train_array, y_val_array, 4, 0.01, 1.001*RMSE_validation)\n",
    "w_4, RMSE_train_4, RMSE_val_4,total_time_4"
   ]
  },
  {
   "cell_type": "code",
   "execution_count": 13,
   "metadata": {},
   "outputs": [
    {
     "data": {
      "text/plain": [
       "('It', 'is', 'diverge', '!!')"
      ]
     },
     "execution_count": 13,
     "metadata": {},
     "output_type": "execute_result"
    }
   ],
   "source": [
    "w_8, RMSE_train_8, RMSE_val_8,total_time_8 =mini_batch(X_train_scaled, X_val_scaled, y_train_array, y_val_array, 8, 0.01, 1.001*RMSE_validation)\n",
    "w_8, RMSE_train_8, RMSE_val_8,total_time_8"
   ]
  },
  {
   "cell_type": "code",
   "execution_count": 14,
   "metadata": {},
   "outputs": [
    {
     "data": {
      "text/plain": [
       "('It', 'is', 'diverge', '!!')"
      ]
     },
     "execution_count": 14,
     "metadata": {},
     "output_type": "execute_result"
    }
   ],
   "source": [
    "w_16, RMSE_train_16, RMSE_val_16,total_time_16 =mini_batch(X_train_scaled, X_val_scaled, y_train_array, y_val_array, 16, 0.01, 1.001*RMSE_validation)\n",
    "w_16, RMSE_train_16, RMSE_val_16,total_time_16"
   ]
  },
  {
   "cell_type": "code",
   "execution_count": 15,
   "metadata": {},
   "outputs": [],
   "source": [
    "#w_16, RMSE_train_16, RMSE_val_16,total_time_16 =mini_batch(X_train_scaled, X_val_scaled, y_train_array, y_val_array, 16, 0.01, 1.001*RMSE_validation)\n",
    "w_128, RMSE_train_128, RMSE_val_128,total_time_128 =mini_batch(X_train_scaled, X_val_scaled, y_train_array, y_val_array, 128, 0.01, 1.001*RMSE_validation)\n",
    "w_256, RMSE_train_256, RMSE_val_256,total_time_256=mini_batch(X_train_scaled, X_val_scaled, y_train_array, y_val_array, 256, 0.01, 1.001*RMSE_validation)\n",
    "w_512, RMSE_train_512, RMSE_val_512,total_time_512=mini_batch(X_train_scaled, X_val_scaled, y_train_array, y_val_array, 512, 0.01, 1.001*RMSE_validation)\n",
    "w_1024, RMSE_train_1024, RMSE_val_1024, total_time_1024=mini_batch(X_train_scaled, X_val_scaled, y_train_array, y_val_array, 1024, 0.01, 1.001*RMSE_validation)\n"
   ]
  },
  {
   "cell_type": "code",
   "execution_count": 16,
   "metadata": {},
   "outputs": [
    {
     "data": {
      "image/png": "[encoded data removed]",
      "text/plain": [
       "<Figure size 1008x720 with 1 Axes>"
      ]
     },
     "metadata": {
      "needs_background": "light"
     },
     "output_type": "display_data"
    }
   ],
   "source": [
    "plt.figure(figsize=(14,10))\n",
    "plt.title('RMSE vs epoch')\n",
    "\n",
    "#plt.plot(RMSE_train_16,label = 'RMSE for train batch_size 16')\n",
    "plt.plot(RMSE_train_128,label = 'RMSE for train batch_size 128')\n",
    "plt.plot(RMSE_train_256,label = 'RMSE for train batch_size 256')\n",
    "plt.plot(RMSE_train_512,label = 'RMSE for train batch_size 512')\n",
    "plt.plot(RMSE_train_1024,label = 'RMSE for train batch_size 1024')\n",
    "\n",
    "#plt.plot(RMSE_train_16,label = 'RMSE for train batch_size 16')\n",
    "plt.plot(RMSE_val_128,label = 'RMSE for val batch_size 128')\n",
    "plt.plot(RMSE_val_256,label = 'RMSE for val batch_size 256')\n",
    "plt.plot(RMSE_val_512,label = 'RMSE for val batch_size 512')\n",
    "plt.plot(RMSE_val_1024,label = 'RMSE for val batch_size 1024')\n",
    "plt.legend()\n",
    "plt.xlabel(\"Epoch\")\n",
    "plt.ylabel(\"RMSE\")\n",
    "\n",
    "plt.show()\n",
    "\n"
   ]
  },
  {
   "cell_type": "code",
   "execution_count": 17,
   "metadata": {},
   "outputs": [
    {
     "data": {
      "image/png": "[encoded data removed]",
      "text/plain": [
       "<Figure size 1008x720 with 1 Axes>"
      ]
     },
     "metadata": {
      "needs_background": "light"
     },
     "output_type": "display_data"
    }
   ],
   "source": [
    "plt.figure(figsize=(14,10))\n",
    "plt.title('RMSE vs Time')\n",
    "\n",
    "#plt.plot(total_time_16,RMSE_train_16,label = 'RMSE for train batch_size 16')\n",
    "plt.plot(total_time_128,RMSE_train_128,label = 'RMSE for train batch_size 128')\n",
    "plt.plot(total_time_256,RMSE_train_256,label = 'RMSE for train batch_size 256')\n",
    "plt.plot(total_time_512,RMSE_train_512,label = 'RMSE for train batch_size 512')\n",
    "plt.plot(total_time_1024,RMSE_train_1024,label = 'RMSE for train batch_size 1024')\n",
    "\n",
    "#plt.plot(total_time_16,RMSE_val_16,label = 'RMSE for val batch_size 16')\n",
    "plt.plot(total_time_128,RMSE_val_128,label = 'RMSE for val batch_size 128')\n",
    "plt.plot(total_time_256,RMSE_val_256,label = 'RMSE for val batch_size 256')\n",
    "plt.plot(total_time_512,RMSE_val_512,label = 'RMSE for val batch_size 512')\n",
    "plt.plot(total_time_1024,RMSE_val_1024,label = 'RMSE for val batch_size 1024')\n",
    "plt.legend()\n",
    "plt.xlabel(\"Time\")\n",
    "plt.ylabel(\"RMSE\")\n",
    "\n",
    "plt.show()"
   ]
  },
  {
   "cell_type": "code",
   "execution_count": 18,
   "metadata": {},
   "outputs": [
    {
     "data": {
      "image/png": "[encoded data removed]",
      "text/plain": [
       "<Figure size 1008x720 with 1 Axes>"
      ]
     },
     "metadata": {
      "needs_background": "light"
     },
     "output_type": "display_data"
    }
   ],
   "source": [
    "time_batch = {'batch': [128, 256,512,1024], 'time': [total_time_128[-1], total_time_256[-1],total_time_512[-1],total_time_1024[-1]]}\n",
    "time_batch_df = pd.DataFrame(data=time_batch)\n",
    "\n",
    "#Plot Total training time (y-axis) vs. Batch size (x-axis)\n",
    "plt.figure(figsize=(14,10))\n",
    "plt.title('Time vs Batch_size')\n",
    "\n",
    "plt.plot(time_batch_df.batch, time_batch_df.time)\n",
    "\n",
    "plt.xlabel(\"Batch_size\")\n",
    "plt.ylabel(\"Time\")\n",
    "\n",
    "plt.show()"
   ]
  },
  {
   "cell_type": "markdown",
   "metadata": {},
   "source": [
    "### 4.4 Findings \n",
    "\n",
    "##### As the batch size increase, the running time first decrease and then increase, the RMSE for training data and validation data are really similiar, which means it is a good model. As the epoch increase, at begining, it drop dramatically, after epoch around 30, it deacrease very slow. More time will usually has lower RMSE. Also for the batch size is small, it is diverage, but if the batch size > 36, it will become converge. More batch size should take more time"
   ]
  },
  {
   "cell_type": "markdown",
   "metadata": {
    "id": "wFjuxbtkCC35"
   },
   "source": [
    "## Part 5 - Gradient Descent Learning Rate [2 marks]\n",
    "Use the function that you designed in Part 4 to investigate the effect of learning rate on convergence.\n",
    "\n",
    "1. Pick 3 batchsize that are not converging with a learning rate of $\\alpha= 0.01$ (last part) and try to find a learning rate that results in convergence for each batchsize. Report your findings in a table. Mention batch size, learning rate, and training and validation RMSE. **[0.5]**\n",
    "\n",
    "2. Select the best batchsize based on Part 4's fastest convergence time and sweep the learning rate (at least 10 values, all should converge) while applying Mini-batch GD. \n",
    "  \n",
    "  * Plot the training and validation RMSE vs. **epoch** (x-axis) for all the learning rates that you tried in a figure. **[0.5]**\n",
    "  * Plot the training and validation RMSE vs. **time** (x-axis) for all the learning rates that you tried in a figure. **[0.5]**\n",
    "  * Describe your findings, including the main takeaways from each of your plots. **[0.5]**"
   ]
  },
  {
   "cell_type": "code",
   "execution_count": 19,
   "metadata": {},
   "outputs": [],
   "source": [
    "## 5.1\n",
    "\n",
    "batch_size = 8\n",
    "w_sum_for_each_learning=[]\n",
    "RMSE_train_sum_for_each_learning=[]\n",
    "RMSE_val_sum_for_each_learning=[]\n",
    "total_time_sum_for_each_learning=[]\n",
    "\n",
    "lr = [0.00001,0.0001,0.001,0.01,0.1,1,3,5,10]\n",
    "for what_learning_rate in lr:\n",
    "    w, RMSE_train, RMSE_val,total_time_sum=mini_batch(X_train_scaled, X_val_scaled, y_train_array, y_val_array, 32, what_learning_rate, 1.001*RMSE_validation)\n",
    "    \n",
    "    w_sum_for_each_learning.append(w)\n",
    "    RMSE_train_sum_for_each_learning.append(RMSE_train)\n",
    "    RMSE_val_sum_for_each_learning.append(RMSE_val)\n",
    "    total_time_sum_for_each_learning.append(total_time_sum)\n",
    "    \n",
    "    \n",
    "    "
   ]
  },
  {
   "cell_type": "code",
   "execution_count": 20,
   "metadata": {},
   "outputs": [
    {
     "data": {
      "text/plain": [
       "['diverge',\n",
       " 'diverge',\n",
       " 'diverge',\n",
       " 'diverge',\n",
       " 'diverge',\n",
       " 'diverge',\n",
       " 'diverge',\n",
       " 'diverge',\n",
       " 'diverge']"
      ]
     },
     "execution_count": 20,
     "metadata": {},
     "output_type": "execute_result"
    }
   ],
   "source": [
    "RMSE_val_sum_for_each_learning"
   ]
  },
  {
   "cell_type": "code",
   "execution_count": 21,
   "metadata": {},
   "outputs": [],
   "source": [
    "## 5.2\n",
    "learning_rate=[0.00001,0.0001,0.001,0.01,0.1]\n",
    "w_sum = []\n",
    "RMSE_train_sum=[]\n",
    "RMSE_val_sum=[]\n",
    "total_time_sum_sum=[]\n",
    "for j in learning_rate:\n",
    "    w, RMSE_train, RMSE_val,total_time_sum=mini_batch(X_train_scaled, X_val_scaled, y_train_array, y_val_array, 128, learning_rate, 1.001*RMSE_validation)\n",
    "    w_sum.append(w)\n",
    "    RMSE_train_sum.append(RMSE_train)\n",
    "    RMSE_val_sum.append(RMSE_val)\n",
    "    total_time_sum_sum.append(total_time_sum)\n",
    "    \n"
   ]
  },
  {
   "cell_type": "code",
   "execution_count": 22,
   "metadata": {},
   "outputs": [
    {
     "data": {
      "image/png": "[encoded data removed]",
      "text/plain": [
       "<Figure size 1008x720 with 1 Axes>"
      ]
     },
     "metadata": {
      "needs_background": "light"
     },
     "output_type": "display_data"
    }
   ],
   "source": [
    "plt.figure(figsize=(14,10))\n",
    "plt.title('RMSE vs epoch')\n",
    "\n",
    "\n",
    "plt.plot(RMSE_train_sum[1],label = 'RMSE for training data learning_rate 0.00001')\n",
    "plt.plot(RMSE_train_sum[2],label = 'RMSE for training data learning_rate 0.0001')\n",
    "plt.plot(RMSE_train_sum[3],label = 'RMSE for training data learning_rate 0.001')\n",
    "plt.plot(RMSE_train_sum[4],label = 'RMSE for training data learning_rate 0.1')\n",
    "\n",
    "#plt.plot(RMSE_train_16,label = 'RMSE for train batch_size 16')\n",
    "plt.plot(RMSE_val_sum[1],label = 'RMSE for val data learning_rate 0.00001')\n",
    "plt.plot(RMSE_val_sum[2],label = 'RMSE for val data learning_rate 0.0001')\n",
    "plt.plot(RMSE_val_sum[3],label = 'RMSE for val data learning_rate 0.001')\n",
    "plt.plot(RMSE_val_sum[4],label = 'RMSE for val data learning_rate 0.1')\n",
    "plt.legend()\n",
    "plt.xlabel(\"Epoch\")\n",
    "plt.ylabel(\"RMSE\")\n",
    "\n",
    "plt.show()\n",
    "\n"
   ]
  },
  {
   "cell_type": "code",
   "execution_count": 23,
   "metadata": {},
   "outputs": [
    {
     "data": {
      "image/png": "[encoded data removed]",
      "text/plain": [
       "<Figure size 1008x720 with 1 Axes>"
      ]
     },
     "metadata": {
      "needs_background": "light"
     },
     "output_type": "display_data"
    }
   ],
   "source": [
    "plt.figure(figsize=(14,10))\n",
    "plt.title('RMSE vs Time')\n",
    "\n",
    "\n",
    "plt.plot(total_time_sum_sum[1],RMSE_train_sum[1],label = 'RMSE for training RMSE and time - learning_rate 0.00001')\n",
    "plt.plot(total_time_sum_sum[2],RMSE_train_sum[2],label = 'RMSE for training RMSE and time - learning_rate 0.0001')\n",
    "plt.plot(total_time_sum_sum[3],RMSE_train_sum[3],label = 'RMSE for training RMSE and time - learning_rate 0.001')\n",
    "plt.plot(total_time_sum_sum[4],RMSE_train_sum[4],label = 'RMSE for training RMSE and time - learning_rate 0.1')\n",
    "\n",
    "#plt.plot(RMSE_train_16,label = 'RMSE for train batch_size 16')\n",
    "plt.plot(total_time_sum_sum[1],RMSE_val_sum[1],label = 'RMSE for val RMSE and time - learning_rate 0.00001')\n",
    "plt.plot(total_time_sum_sum[2],RMSE_val_sum[2],label = 'RMSE for val RMSE and time - learning_rate 0.0001')\n",
    "plt.plot(total_time_sum_sum[3],RMSE_val_sum[3],label = 'RMSE for val RMSE and time - learning_rate 0.001')\n",
    "plt.plot(total_time_sum_sum[4],RMSE_val_sum[4],label = 'RMSE for val RMSE and time - learning_rate 0.1')\n",
    "\n",
    "plt.legend()\n",
    "plt.xlabel(\"Epoch\")\n",
    "plt.ylabel(\"RMSE\")\n",
    "\n",
    "plt.show()"
   ]
  },
  {
   "cell_type": "markdown",
   "metadata": {},
   "source": [
    "### 5.2.3 Finding\n",
    "#### when the learning rate decrease, then the rmse decrease slowly, for example, when the learning rate decrease from 0.1 to 0.0001, the RMSE decrease. Also for the different learning rate, as the learning rate decrease, the number of epoch decrease. "
   ]
  },
  {
   "cell_type": "markdown",
   "metadata": {
    "id": "JQlyGwUsfIYE"
   },
   "source": [
    "## Part 6 - Finalizing a model [1 marks]\n",
    "Based on your findings from the previous parts, pick a model (or combination of model settings) that you think would work best for our dataset and evaluate it on the test set. \n",
    "\n",
    "Briefly describe your model selections/settings. **[0.5]** \n",
    "\n",
    "Summarize the performance of your model for the task of managing ailerons of an aircraft. **[0.5]** "
   ]
  },
  {
   "cell_type": "markdown",
   "metadata": {
    "id": "yhzihM1z2556"
   },
   "source": []
  },
  {
   "cell_type": "code",
   "execution_count": 24,
   "metadata": {
    "id": "9f-s_HRffwlR"
   },
   "outputs": [
    {
     "data": {
      "text/plain": [
       "array([[-8.74214262e-04,  2.61006613e-04,  1.36862881e-07,\n",
       "        -1.28098258e-04,  2.64820387e-04,  3.39804436e-04,\n",
       "        -8.46448890e-05,  3.45990149e-04,  1.59396518e-04,\n",
       "         3.45220298e-05,  1.05483445e-04, -5.63764217e-05,\n",
       "         5.71453414e-05,  2.46194082e-04,  1.34124884e-04,\n",
       "        -2.62812753e-05, -3.37864843e-04, -1.17119890e-04,\n",
       "         3.00338885e-04,  3.32693491e-04, -5.70515375e-04,\n",
       "         5.33064698e-05,  2.10004620e-04,  1.38590337e-05,\n",
       "        -4.27736153e-04,  3.09606438e-06,  1.81730386e-06,\n",
       "        -8.56844531e-06, -4.26914209e-06, -2.01644069e-05,\n",
       "         4.72231826e-06, -1.67085971e-06, -9.00664008e-07,\n",
       "        -3.86522565e-05,  1.27809440e-06, -8.26438876e-06,\n",
       "        -1.22897090e-06, -2.41808395e-05,  5.84174726e-07,\n",
       "        -1.43951887e-05, -2.14090739e-04]])"
      ]
     },
     "execution_count": 24,
     "metadata": {},
     "output_type": "execute_result"
    }
   ],
   "source": [
    "w_128, RMSE_train_128, RMSE_val_128,total_time_128 =mini_batch(X_train_scaled, X_val_scaled, y_train_array, y_val_array, 128, 0.01, 1.001*RMSE_validation)\n",
    "w_128"
   ]
  },
  {
   "cell_type": "code",
   "execution_count": 25,
   "metadata": {},
   "outputs": [
    {
     "data": {
      "text/plain": [
       "0.00017932428875542785"
      ]
     },
     "execution_count": 25,
     "metadata": {},
     "output_type": "execute_result"
    }
   ],
   "source": [
    "y_test_predict = np.dot(X_test_scaled, w_128.T)\n",
    "rmse(y_test_predict,y_test_array)"
   ]
  },
  {
   "cell_type": "code",
   "execution_count": 26,
   "metadata": {},
   "outputs": [
    {
     "name": "stdout",
     "output_type": "stream",
     "text": [
      "The RMSE for test data is  0.00017932428875542785\n"
     ]
    }
   ],
   "source": [
    "print ('The RMSE for test data is ',rmse(y_test_predict,y_test_array))"
   ]
  },
  {
   "cell_type": "markdown",
   "metadata": {},
   "source": [
    "### 6.1 Briefly describe your model selections/settings\n",
    "#### The batch size I choose is 128, because it has lowe batch size, lower running time and will give lowest RMSE. Also the learning rate is 0.01, then it will also decrease the rmse, so that the reason I would like to use"
   ]
  },
  {
   "cell_type": "markdown",
   "metadata": {},
   "source": [
    "### 6.2 Summarize the performance of your model for the task of managing ailerons of an aircraft.\n",
    "#### When the batch size is 128, learning rate is 0.01, the RMSE for test data is 0.00017843, which is a really good fit!"
   ]
  },
  {
   "cell_type": "markdown",
   "metadata": {
    "id": "p-kR6ppg24X6"
   },
   "source": [
    "## Part 7 - Getting started with Github  [3 marks]\n",
    "\n",
    "This final part of the project assignment is to be completed independently from Parts 1 - 6. In this part you will be completing some additional coding tasks using a different dataset and submitting your results on Github. To access this part of the assignment and upload your answers, you will need to use Github. Please complete the following step-by-step instructions:\n",
    "\n",
    " 0. Create a Github account and install git for Windows or Mac: \n",
    "  * https://git-scm.com/download/win\n",
    "  * https://git-scm.com/download/mac\n",
    "\n",
    " 1. Open this link: https://classroom.github.com/a/5dxrAjOj to create your assignment repository in GitHub. You should get a link similar to:\n",
    "```\n",
    "https://github.com/APS-1070-2021/project4_git-*********\n",
    "```\n",
    "This your private repository to get this part questions and upload your answers. **Copy this link to the text box below to be graded for this part.**\n",
    "\n",
    " \n",
    " 2. Open `Git Bash`, the app you downloaded in step `0`, and set your Email and username by:\n",
    "```\n",
    "git config --global user.email “<your-GitHub-email>”\n",
    "git config --global user.name “<your-GitHub-username>”\n",
    "```\n",
    "\n",
    " 3. Create a folder for the course on your computer and `cd` to that. `cd` means `Change Directory`. For example, on a Windows machine, where I have a folder on \"C:\\aps1070\":\n",
    " ```\n",
    "cd c:aps1070\n",
    "```\n",
    " 4. Get your assignment by the link you got in step 1:\n",
    "```\n",
    "git clone https://github.com/APS-1070-2021/project4_git-*********\n",
    "```\n",
    "\n",
    "\n",
    " 5. A new folder should be created in your directory similar to:\n",
    "```\n",
    "C:\\aps1070\\project4_git-********\n",
    "```\n",
    "This folder has an `ipynb` notebook which you need to manually upload to colab and answer its questions. \n",
    "\n",
    " 6. After you finished working on this notebook, download the notebook from colab and move it to the directory in step 5.\n",
    "\n",
    " 7. Replace the old notebook with the new one that has your answers. Make sure your completed notebook has the same name as the original notebook you downloaded. \n",
    "\n",
    " 8. To submit your work, follow: \n",
    "```\n",
    "cd <your assignment folder>\n",
    "git add W22_Project_4_git.ipynb\n",
    "git commit -m “Final Submission”\n",
    "git push \n",
    "```\n",
    "If you had any problem with pushing your work on GitHub you can try one of following commands:\n",
    "```\n",
    "git push --force\n",
    "or \n",
    "git push origin HEAD:main\n",
    "```\n",
    "\n",
    " 9. Make sure your submission is ready for grading. Open the private repository link in your browser and make sure you can see your final submission with your latest changes there. **Only you and the teaching team can open that link.** "
   ]
  },
  {
   "cell_type": "markdown",
   "metadata": {
    "id": "XY-NBi8i37mY"
   },
   "source": [
    "**Private Repository Link :** https://github.com/APS-1070-2021/project4_git-21breed.git **[3 marks]**"
   ]
  }
 ],
 "metadata": {
  "colab": {
   "collapsed_sections": [],
   "name": "W22_APS1070_Project_4.ipynb",
   "provenance": []
  },
  "kernelspec": {
   "display_name": "Python 3 (ipykernel)",
   "language": "python",
   "name": "python3"
  },
  "language_info": {
   "codemirror_mode": {
    "name": "ipython",
    "version": 3
   },
   "file_extension": ".py",
   "mimetype": "text/x-python",
   "name": "python",
   "nbconvert_exporter": "python",
   "pygments_lexer": "ipython3",
   "version": "3.8.8"
  }
 },
 "nbformat": 4,
 "nbformat_minor": 1
}
